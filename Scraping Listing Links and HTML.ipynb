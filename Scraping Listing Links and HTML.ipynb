{
 "metadata": {
  "language_info": {
   "codemirror_mode": {
    "name": "ipython",
    "version": 3
   },
   "file_extension": ".py",
   "mimetype": "text/x-python",
   "name": "python",
   "nbconvert_exporter": "python",
   "pygments_lexer": "ipython3",
   "version": "3.8.5-final"
  },
  "orig_nbformat": 2,
  "kernelspec": {
   "name": "Python 3.8.5 64-bit ('metis': conda)",
   "display_name": "Python 3.8.5 64-bit ('metis': conda)",
   "metadata": {
    "interpreter": {
     "hash": "ddd4d743fd1d38e605abc3a37886e115f06419814ac94d7a1c9c2c18274a5f3d"
    }
   }
  }
 },
 "nbformat": 4,
 "nbformat_minor": 2,
 "cells": [
  {
   "source": [
    "## Target Variable:\n",
    "Predicting Home Prices in Chicago Zip Codes\n",
    "    \n",
    "* MVP: one zip code (Wicker Park)\n",
    "    \n",
    "\n",
    "\n",
    "* Training Data vs. Result Data (3 years and past 30 days) depending on number of rows\n",
    "\n",
    "\n",
    "    \n",
    "### Challenges\n",
    "* Recaptcha over and over for 20 pages (windowss, buses, traffic lights, taxis, bikes)\n",
    "* Can't process request right now error\n",
    "* Picking up too many dupes of links\n",
    "* not loading next page of links that are unique\n",
    "* Zillow main page keeps asking for recaptcha\n",
    "\n"
   ],
   "cell_type": "markdown",
   "metadata": {}
  },
  {
   "cell_type": "code",
   "execution_count": 3,
   "metadata": {},
   "outputs": [],
   "source": [
    "import requests\n",
    "from bs4 import BeautifulSoup\n",
    "from selenium import webdriver\n",
    "from selenium.webdriver.common.keys import Keys\n",
    "from selenium.webdriver.common.by import By\n",
    "from selenium.webdriver.chrome.options import Options\n",
    "from IPython.core.display import display, HTML\n",
    "import sys\n",
    "import time\n",
    "import numpy as np\n",
    "import pandas as pd\n",
    "import random\n",
    "from fake_useragent import UserAgent\n",
    "import pickle"
   ]
  },
  {
   "cell_type": "code",
   "execution_count": 3,
   "metadata": {},
   "outputs": [],
   "source": [
    "from IPython.core.display import display, HTML\n",
    "\n",
    "chromedriver = \"/Applications/chromedriver\" # path to the chromedriver executable\n",
    "os.environ[\"webdriver.chrome.driver\"] = chromedriver"
   ]
  },
  {
   "cell_type": "code",
   "execution_count": 4,
   "metadata": {},
   "outputs": [],
   "source": [
    "wicker_park_url_test= 'https://www.zillow.com/wicker-park-chicago-il/sold/'"
   ]
  },
  {
   "cell_type": "code",
   "execution_count": 5,
   "metadata": {
    "tags": []
   },
   "outputs": [
    {
     "output_type": "stream",
     "name": "stdout",
     "text": "Mozilla/5.0 (Macintosh; Intel Mac OS X 10_15_6) AppleWebKit/537.36 (KHTML, like Gecko) Chrome/85.0.4183.121 Safari/537.36\n"
    }
   ],
   "source": [
    "ua = UserAgent()\n",
    "chrome_options = webdriver.ChromeOptions()  #changing attributes of driver to log on\n",
    "userAgent = 'Mozilla/5.0 (Macintosh; Intel Mac OS X 10_15_6) AppleWebKit/537.36 (KHTML, like Gecko) Chrome/85.0.4183.121 Safari/537.36'\n",
    "print(userAgent)\n",
    "chrome_options.add_argument(f'user-agent={userAgent}') #add new/change key value of user agent\n",
    "driver = webdriver.Chrome(chrome_options=chrome_options, executable_path = '/Applications/chromedriver')\n",
    "driver.get(wicker_park_url_test)\n",
    "time.sleep(10)"
   ]
  },
  {
   "cell_type": "code",
   "execution_count": null,
   "metadata": {},
   "outputs": [],
   "source": []
  },
  {
   "cell_type": "code",
   "execution_count": 42,
   "metadata": {},
   "outputs": [],
   "source": [
    "base_url = 'https://www.zillow.com/wicker-park-chicago-il/sold/'\n",
    "\n",
    "base_url_2 = '?/searchQueryState=%7B%22pagination%22%3A%7B%7D%2C%22usersSearchTerm%22%3A%22Wicker%20Park%2C%20Chicago%2C%20IL%22%2C%22mapBounds%22%3A%7B%22west%22%3A-87.78373829841962%2C%22east%22%3A-87.50049702644696%2C%22south%22%3A41.80392126619348%2C%22north%22%3A41.9473333009964%7D%2C%22mapZoom%22%3A12%2C%22regionSelection%22%3A%5B%7B%22regionId%22%3A7930%2C%22regionType%22%3A8%7D%5D%2C%22isMapVisible%22%3Atrue%2C%22filterState%22%3A%7B%22pmf%22%3A%7B%22value%22%3Afalse%7D%2C%22fore%22%3A%7B%22value%22%3Afalse%7D%2C%22ah%22%3A%7B%22value%22%3Atrue%7D%2C%22sort%22%3A%7B%22value%22%3A%22globalrelevanceex%22%7D%2C%22auc%22%3A%7B%22value%22%3Afalse%7D%2C%22nc%22%3A%7B%22value%22%3Afalse%7D%2C%22rs%22%3A%7B%22value%22%3Atrue%7D%2C%22fsbo%22%3A%7B%22value%22%3Afalse%7D%2C%22cmsn%22%3A%7B%22value%22%3Afalse%7D%2C%22pf%22%3A%7B%22value%22%3Afalse%7D%2C%22fsba%22%3A%7B%22value%22%3Afalse%7D%7D%2C%22isListVisible%22%3Atrue%7D'\n",
    "\n",
    "search_pages_list_20 = []\n",
    "def first_20_pages():\n",
    "    for i in range(2,21):\n",
    "        search_pages_list_20.append(base_url + str(i) + '_p' + base_url_2)\n",
    "\n"
   ]
  },
  {
   "cell_type": "code",
   "execution_count": 43,
   "metadata": {},
   "outputs": [],
   "source": [
    "first_20_pages()"
   ]
  },
  {
   "cell_type": "code",
   "execution_count": 44,
   "metadata": {},
   "outputs": [
    {
     "output_type": "execute_result",
     "data": {
      "text/plain": "[&#39;https://www.zillow.com/wicker-park-chicago-il/sold/2_p?/searchQueryState=%7B%22pagination%22%3A%7B%7D%2C%22usersSearchTerm%22%3A%22Wicker%20Park%2C%20Chicago%2C%20IL%22%2C%22mapBounds%22%3A%7B%22west%22%3A-87.78373829841962%2C%22east%22%3A-87.50049702644696%2C%22south%22%3A41.80392126619348%2C%22north%22%3A41.9473333009964%7D%2C%22mapZoom%22%3A12%2C%22regionSelection%22%3A%5B%7B%22regionId%22%3A7930%2C%22regionType%22%3A8%7D%5D%2C%22isMapVisible%22%3Atrue%2C%22filterState%22%3A%7B%22pmf%22%3A%7B%22value%22%3Afalse%7D%2C%22fore%22%3A%7B%22value%22%3Afalse%7D%2C%22ah%22%3A%7B%22value%22%3Atrue%7D%2C%22sort%22%3A%7B%22value%22%3A%22globalrelevanceex%22%7D%2C%22auc%22%3A%7B%22value%22%3Afalse%7D%2C%22nc%22%3A%7B%22value%22%3Afalse%7D%2C%22rs%22%3A%7B%22value%22%3Atrue%7D%2C%22fsbo%22%3A%7B%22value%22%3Afalse%7D%2C%22cmsn%22%3A%7B%22value%22%3Afalse%7D%2C%22pf%22%3A%7B%22value%22%3Afalse%7D%2C%22fsba%22%3A%7B%22value%22%3Afalse%7D%7D%2C%22isListVisible%22%3Atrue%7D&#39;,\n &#39;https://www.zillow.com/wicker-park-chicago-il/sold/3_p?/searchQueryState=%7B%22pagination%22%3A%7B%7D%2C%22usersSearchTerm%22%3A%22Wicker%20Park%2C%20Chicago%2C%20IL%22%2C%22mapBounds%22%3A%7B%22west%22%3A-87.78373829841962%2C%22east%22%3A-87.50049702644696%2C%22south%22%3A41.80392126619348%2C%22north%22%3A41.9473333009964%7D%2C%22mapZoom%22%3A12%2C%22regionSelection%22%3A%5B%7B%22regionId%22%3A7930%2C%22regionType%22%3A8%7D%5D%2C%22isMapVisible%22%3Atrue%2C%22filterState%22%3A%7B%22pmf%22%3A%7B%22value%22%3Afalse%7D%2C%22fore%22%3A%7B%22value%22%3Afalse%7D%2C%22ah%22%3A%7B%22value%22%3Atrue%7D%2C%22sort%22%3A%7B%22value%22%3A%22globalrelevanceex%22%7D%2C%22auc%22%3A%7B%22value%22%3Afalse%7D%2C%22nc%22%3A%7B%22value%22%3Afalse%7D%2C%22rs%22%3A%7B%22value%22%3Atrue%7D%2C%22fsbo%22%3A%7B%22value%22%3Afalse%7D%2C%22cmsn%22%3A%7B%22value%22%3Afalse%7D%2C%22pf%22%3A%7B%22value%22%3Afalse%7D%2C%22fsba%22%3A%7B%22value%22%3Afalse%7D%7D%2C%22isListVisible%22%3Atrue%7D&#39;,\n &#39;https://www.zillow.com/wicker-park-chicago-il/sold/4_p?/searchQueryState=%7B%22pagination%22%3A%7B%7D%2C%22usersSearchTerm%22%3A%22Wicker%20Park%2C%20Chicago%2C%20IL%22%2C%22mapBounds%22%3A%7B%22west%22%3A-87.78373829841962%2C%22east%22%3A-87.50049702644696%2C%22south%22%3A41.80392126619348%2C%22north%22%3A41.9473333009964%7D%2C%22mapZoom%22%3A12%2C%22regionSelection%22%3A%5B%7B%22regionId%22%3A7930%2C%22regionType%22%3A8%7D%5D%2C%22isMapVisible%22%3Atrue%2C%22filterState%22%3A%7B%22pmf%22%3A%7B%22value%22%3Afalse%7D%2C%22fore%22%3A%7B%22value%22%3Afalse%7D%2C%22ah%22%3A%7B%22value%22%3Atrue%7D%2C%22sort%22%3A%7B%22value%22%3A%22globalrelevanceex%22%7D%2C%22auc%22%3A%7B%22value%22%3Afalse%7D%2C%22nc%22%3A%7B%22value%22%3Afalse%7D%2C%22rs%22%3A%7B%22value%22%3Atrue%7D%2C%22fsbo%22%3A%7B%22value%22%3Afalse%7D%2C%22cmsn%22%3A%7B%22value%22%3Afalse%7D%2C%22pf%22%3A%7B%22value%22%3Afalse%7D%2C%22fsba%22%3A%7B%22value%22%3Afalse%7D%7D%2C%22isListVisible%22%3Atrue%7D&#39;,\n &#39;https://www.zillow.com/wicker-park-chicago-il/sold/5_p?/searchQueryState=%7B%22pagination%22%3A%7B%7D%2C%22usersSearchTerm%22%3A%22Wicker%20Park%2C%20Chicago%2C%20IL%22%2C%22mapBounds%22%3A%7B%22west%22%3A-87.78373829841962%2C%22east%22%3A-87.50049702644696%2C%22south%22%3A41.80392126619348%2C%22north%22%3A41.9473333009964%7D%2C%22mapZoom%22%3A12%2C%22regionSelection%22%3A%5B%7B%22regionId%22%3A7930%2C%22regionType%22%3A8%7D%5D%2C%22isMapVisible%22%3Atrue%2C%22filterState%22%3A%7B%22pmf%22%3A%7B%22value%22%3Afalse%7D%2C%22fore%22%3A%7B%22value%22%3Afalse%7D%2C%22ah%22%3A%7B%22value%22%3Atrue%7D%2C%22sort%22%3A%7B%22value%22%3A%22globalrelevanceex%22%7D%2C%22auc%22%3A%7B%22value%22%3Afalse%7D%2C%22nc%22%3A%7B%22value%22%3Afalse%7D%2C%22rs%22%3A%7B%22value%22%3Atrue%7D%2C%22fsbo%22%3A%7B%22value%22%3Afalse%7D%2C%22cmsn%22%3A%7B%22value%22%3Afalse%7D%2C%22pf%22%3A%7B%22value%22%3Afalse%7D%2C%22fsba%22%3A%7B%22value%22%3Afalse%7D%7D%2C%22isListVisible%22%3Atrue%7D&#39;,\n &#39;https://www.zillow.com/wicker-park-chicago-il/sold/6_p?/searchQueryState=%7B%22pagination%22%3A%7B%7D%2C%22usersSearchTerm%22%3A%22Wicker%20Park%2C%20Chicago%2C%20IL%22%2C%22mapBounds%22%3A%7B%22west%22%3A-87.78373829841962%2C%22east%22%3A-87.50049702644696%2C%22south%22%3A41.80392126619348%2C%22north%22%3A41.9473333009964%7D%2C%22mapZoom%22%3A12%2C%22regionSelection%22%3A%5B%7B%22regionId%22%3A7930%2C%22regionType%22%3A8%7D%5D%2C%22isMapVisible%22%3Atrue%2C%22filterState%22%3A%7B%22pmf%22%3A%7B%22value%22%3Afalse%7D%2C%22fore%22%3A%7B%22value%22%3Afalse%7D%2C%22ah%22%3A%7B%22value%22%3Atrue%7D%2C%22sort%22%3A%7B%22value%22%3A%22globalrelevanceex%22%7D%2C%22auc%22%3A%7B%22value%22%3Afalse%7D%2C%22nc%22%3A%7B%22value%22%3Afalse%7D%2C%22rs%22%3A%7B%22value%22%3Atrue%7D%2C%22fsbo%22%3A%7B%22value%22%3Afalse%7D%2C%22cmsn%22%3A%7B%22value%22%3Afalse%7D%2C%22pf%22%3A%7B%22value%22%3Afalse%7D%2C%22fsba%22%3A%7B%22value%22%3Afalse%7D%7D%2C%22isListVisible%22%3Atrue%7D&#39;,\n &#39;https://www.zillow.com/wicker-park-chicago-il/sold/7_p?/searchQueryState=%7B%22pagination%22%3A%7B%7D%2C%22usersSearchTerm%22%3A%22Wicker%20Park%2C%20Chicago%2C%20IL%22%2C%22mapBounds%22%3A%7B%22west%22%3A-87.78373829841962%2C%22east%22%3A-87.50049702644696%2C%22south%22%3A41.80392126619348%2C%22north%22%3A41.9473333009964%7D%2C%22mapZoom%22%3A12%2C%22regionSelection%22%3A%5B%7B%22regionId%22%3A7930%2C%22regionType%22%3A8%7D%5D%2C%22isMapVisible%22%3Atrue%2C%22filterState%22%3A%7B%22pmf%22%3A%7B%22value%22%3Afalse%7D%2C%22fore%22%3A%7B%22value%22%3Afalse%7D%2C%22ah%22%3A%7B%22value%22%3Atrue%7D%2C%22sort%22%3A%7B%22value%22%3A%22globalrelevanceex%22%7D%2C%22auc%22%3A%7B%22value%22%3Afalse%7D%2C%22nc%22%3A%7B%22value%22%3Afalse%7D%2C%22rs%22%3A%7B%22value%22%3Atrue%7D%2C%22fsbo%22%3A%7B%22value%22%3Afalse%7D%2C%22cmsn%22%3A%7B%22value%22%3Afalse%7D%2C%22pf%22%3A%7B%22value%22%3Afalse%7D%2C%22fsba%22%3A%7B%22value%22%3Afalse%7D%7D%2C%22isListVisible%22%3Atrue%7D&#39;,\n &#39;https://www.zillow.com/wicker-park-chicago-il/sold/8_p?/searchQueryState=%7B%22pagination%22%3A%7B%7D%2C%22usersSearchTerm%22%3A%22Wicker%20Park%2C%20Chicago%2C%20IL%22%2C%22mapBounds%22%3A%7B%22west%22%3A-87.78373829841962%2C%22east%22%3A-87.50049702644696%2C%22south%22%3A41.80392126619348%2C%22north%22%3A41.9473333009964%7D%2C%22mapZoom%22%3A12%2C%22regionSelection%22%3A%5B%7B%22regionId%22%3A7930%2C%22regionType%22%3A8%7D%5D%2C%22isMapVisible%22%3Atrue%2C%22filterState%22%3A%7B%22pmf%22%3A%7B%22value%22%3Afalse%7D%2C%22fore%22%3A%7B%22value%22%3Afalse%7D%2C%22ah%22%3A%7B%22value%22%3Atrue%7D%2C%22sort%22%3A%7B%22value%22%3A%22globalrelevanceex%22%7D%2C%22auc%22%3A%7B%22value%22%3Afalse%7D%2C%22nc%22%3A%7B%22value%22%3Afalse%7D%2C%22rs%22%3A%7B%22value%22%3Atrue%7D%2C%22fsbo%22%3A%7B%22value%22%3Afalse%7D%2C%22cmsn%22%3A%7B%22value%22%3Afalse%7D%2C%22pf%22%3A%7B%22value%22%3Afalse%7D%2C%22fsba%22%3A%7B%22value%22%3Afalse%7D%7D%2C%22isListVisible%22%3Atrue%7D&#39;,\n &#39;https://www.zillow.com/wicker-park-chicago-il/sold/9_p?/searchQueryState=%7B%22pagination%22%3A%7B%7D%2C%22usersSearchTerm%22%3A%22Wicker%20Park%2C%20Chicago%2C%20IL%22%2C%22mapBounds%22%3A%7B%22west%22%3A-87.78373829841962%2C%22east%22%3A-87.50049702644696%2C%22south%22%3A41.80392126619348%2C%22north%22%3A41.9473333009964%7D%2C%22mapZoom%22%3A12%2C%22regionSelection%22%3A%5B%7B%22regionId%22%3A7930%2C%22regionType%22%3A8%7D%5D%2C%22isMapVisible%22%3Atrue%2C%22filterState%22%3A%7B%22pmf%22%3A%7B%22value%22%3Afalse%7D%2C%22fore%22%3A%7B%22value%22%3Afalse%7D%2C%22ah%22%3A%7B%22value%22%3Atrue%7D%2C%22sort%22%3A%7B%22value%22%3A%22globalrelevanceex%22%7D%2C%22auc%22%3A%7B%22value%22%3Afalse%7D%2C%22nc%22%3A%7B%22value%22%3Afalse%7D%2C%22rs%22%3A%7B%22value%22%3Atrue%7D%2C%22fsbo%22%3A%7B%22value%22%3Afalse%7D%2C%22cmsn%22%3A%7B%22value%22%3Afalse%7D%2C%22pf%22%3A%7B%22value%22%3Afalse%7D%2C%22fsba%22%3A%7B%22value%22%3Afalse%7D%7D%2C%22isListVisible%22%3Atrue%7D&#39;,\n &#39;https://www.zillow.com/wicker-park-chicago-il/sold/10_p?/searchQueryState=%7B%22pagination%22%3A%7B%7D%2C%22usersSearchTerm%22%3A%22Wicker%20Park%2C%20Chicago%2C%20IL%22%2C%22mapBounds%22%3A%7B%22west%22%3A-87.78373829841962%2C%22east%22%3A-87.50049702644696%2C%22south%22%3A41.80392126619348%2C%22north%22%3A41.9473333009964%7D%2C%22mapZoom%22%3A12%2C%22regionSelection%22%3A%5B%7B%22regionId%22%3A7930%2C%22regionType%22%3A8%7D%5D%2C%22isMapVisible%22%3Atrue%2C%22filterState%22%3A%7B%22pmf%22%3A%7B%22value%22%3Afalse%7D%2C%22fore%22%3A%7B%22value%22%3Afalse%7D%2C%22ah%22%3A%7B%22value%22%3Atrue%7D%2C%22sort%22%3A%7B%22value%22%3A%22globalrelevanceex%22%7D%2C%22auc%22%3A%7B%22value%22%3Afalse%7D%2C%22nc%22%3A%7B%22value%22%3Afalse%7D%2C%22rs%22%3A%7B%22value%22%3Atrue%7D%2C%22fsbo%22%3A%7B%22value%22%3Afalse%7D%2C%22cmsn%22%3A%7B%22value%22%3Afalse%7D%2C%22pf%22%3A%7B%22value%22%3Afalse%7D%2C%22fsba%22%3A%7B%22value%22%3Afalse%7D%7D%2C%22isListVisible%22%3Atrue%7D&#39;,\n &#39;https://www.zillow.com/wicker-park-chicago-il/sold/11_p?/searchQueryState=%7B%22pagination%22%3A%7B%7D%2C%22usersSearchTerm%22%3A%22Wicker%20Park%2C%20Chicago%2C%20IL%22%2C%22mapBounds%22%3A%7B%22west%22%3A-87.78373829841962%2C%22east%22%3A-87.50049702644696%2C%22south%22%3A41.80392126619348%2C%22north%22%3A41.9473333009964%7D%2C%22mapZoom%22%3A12%2C%22regionSelection%22%3A%5B%7B%22regionId%22%3A7930%2C%22regionType%22%3A8%7D%5D%2C%22isMapVisible%22%3Atrue%2C%22filterState%22%3A%7B%22pmf%22%3A%7B%22value%22%3Afalse%7D%2C%22fore%22%3A%7B%22value%22%3Afalse%7D%2C%22ah%22%3A%7B%22value%22%3Atrue%7D%2C%22sort%22%3A%7B%22value%22%3A%22globalrelevanceex%22%7D%2C%22auc%22%3A%7B%22value%22%3Afalse%7D%2C%22nc%22%3A%7B%22value%22%3Afalse%7D%2C%22rs%22%3A%7B%22value%22%3Atrue%7D%2C%22fsbo%22%3A%7B%22value%22%3Afalse%7D%2C%22cmsn%22%3A%7B%22value%22%3Afalse%7D%2C%22pf%22%3A%7B%22value%22%3Afalse%7D%2C%22fsba%22%3A%7B%22value%22%3Afalse%7D%7D%2C%22isListVisible%22%3Atrue%7D&#39;,\n &#39;https://www.zillow.com/wicker-park-chicago-il/sold/12_p?/searchQueryState=%7B%22pagination%22%3A%7B%7D%2C%22usersSearchTerm%22%3A%22Wicker%20Park%2C%20Chicago%2C%20IL%22%2C%22mapBounds%22%3A%7B%22west%22%3A-87.78373829841962%2C%22east%22%3A-87.50049702644696%2C%22south%22%3A41.80392126619348%2C%22north%22%3A41.9473333009964%7D%2C%22mapZoom%22%3A12%2C%22regionSelection%22%3A%5B%7B%22regionId%22%3A7930%2C%22regionType%22%3A8%7D%5D%2C%22isMapVisible%22%3Atrue%2C%22filterState%22%3A%7B%22pmf%22%3A%7B%22value%22%3Afalse%7D%2C%22fore%22%3A%7B%22value%22%3Afalse%7D%2C%22ah%22%3A%7B%22value%22%3Atrue%7D%2C%22sort%22%3A%7B%22value%22%3A%22globalrelevanceex%22%7D%2C%22auc%22%3A%7B%22value%22%3Afalse%7D%2C%22nc%22%3A%7B%22value%22%3Afalse%7D%2C%22rs%22%3A%7B%22value%22%3Atrue%7D%2C%22fsbo%22%3A%7B%22value%22%3Afalse%7D%2C%22cmsn%22%3A%7B%22value%22%3Afalse%7D%2C%22pf%22%3A%7B%22value%22%3Afalse%7D%2C%22fsba%22%3A%7B%22value%22%3Afalse%7D%7D%2C%22isListVisible%22%3Atrue%7D&#39;,\n &#39;https://www.zillow.com/wicker-park-chicago-il/sold/13_p?/searchQueryState=%7B%22pagination%22%3A%7B%7D%2C%22usersSearchTerm%22%3A%22Wicker%20Park%2C%20Chicago%2C%20IL%22%2C%22mapBounds%22%3A%7B%22west%22%3A-87.78373829841962%2C%22east%22%3A-87.50049702644696%2C%22south%22%3A41.80392126619348%2C%22north%22%3A41.9473333009964%7D%2C%22mapZoom%22%3A12%2C%22regionSelection%22%3A%5B%7B%22regionId%22%3A7930%2C%22regionType%22%3A8%7D%5D%2C%22isMapVisible%22%3Atrue%2C%22filterState%22%3A%7B%22pmf%22%3A%7B%22value%22%3Afalse%7D%2C%22fore%22%3A%7B%22value%22%3Afalse%7D%2C%22ah%22%3A%7B%22value%22%3Atrue%7D%2C%22sort%22%3A%7B%22value%22%3A%22globalrelevanceex%22%7D%2C%22auc%22%3A%7B%22value%22%3Afalse%7D%2C%22nc%22%3A%7B%22value%22%3Afalse%7D%2C%22rs%22%3A%7B%22value%22%3Atrue%7D%2C%22fsbo%22%3A%7B%22value%22%3Afalse%7D%2C%22cmsn%22%3A%7B%22value%22%3Afalse%7D%2C%22pf%22%3A%7B%22value%22%3Afalse%7D%2C%22fsba%22%3A%7B%22value%22%3Afalse%7D%7D%2C%22isListVisible%22%3Atrue%7D&#39;,\n &#39;https://www.zillow.com/wicker-park-chicago-il/sold/14_p?/searchQueryState=%7B%22pagination%22%3A%7B%7D%2C%22usersSearchTerm%22%3A%22Wicker%20Park%2C%20Chicago%2C%20IL%22%2C%22mapBounds%22%3A%7B%22west%22%3A-87.78373829841962%2C%22east%22%3A-87.50049702644696%2C%22south%22%3A41.80392126619348%2C%22north%22%3A41.9473333009964%7D%2C%22mapZoom%22%3A12%2C%22regionSelection%22%3A%5B%7B%22regionId%22%3A7930%2C%22regionType%22%3A8%7D%5D%2C%22isMapVisible%22%3Atrue%2C%22filterState%22%3A%7B%22pmf%22%3A%7B%22value%22%3Afalse%7D%2C%22fore%22%3A%7B%22value%22%3Afalse%7D%2C%22ah%22%3A%7B%22value%22%3Atrue%7D%2C%22sort%22%3A%7B%22value%22%3A%22globalrelevanceex%22%7D%2C%22auc%22%3A%7B%22value%22%3Afalse%7D%2C%22nc%22%3A%7B%22value%22%3Afalse%7D%2C%22rs%22%3A%7B%22value%22%3Atrue%7D%2C%22fsbo%22%3A%7B%22value%22%3Afalse%7D%2C%22cmsn%22%3A%7B%22value%22%3Afalse%7D%2C%22pf%22%3A%7B%22value%22%3Afalse%7D%2C%22fsba%22%3A%7B%22value%22%3Afalse%7D%7D%2C%22isListVisible%22%3Atrue%7D&#39;,\n &#39;https://www.zillow.com/wicker-park-chicago-il/sold/15_p?/searchQueryState=%7B%22pagination%22%3A%7B%7D%2C%22usersSearchTerm%22%3A%22Wicker%20Park%2C%20Chicago%2C%20IL%22%2C%22mapBounds%22%3A%7B%22west%22%3A-87.78373829841962%2C%22east%22%3A-87.50049702644696%2C%22south%22%3A41.80392126619348%2C%22north%22%3A41.9473333009964%7D%2C%22mapZoom%22%3A12%2C%22regionSelection%22%3A%5B%7B%22regionId%22%3A7930%2C%22regionType%22%3A8%7D%5D%2C%22isMapVisible%22%3Atrue%2C%22filterState%22%3A%7B%22pmf%22%3A%7B%22value%22%3Afalse%7D%2C%22fore%22%3A%7B%22value%22%3Afalse%7D%2C%22ah%22%3A%7B%22value%22%3Atrue%7D%2C%22sort%22%3A%7B%22value%22%3A%22globalrelevanceex%22%7D%2C%22auc%22%3A%7B%22value%22%3Afalse%7D%2C%22nc%22%3A%7B%22value%22%3Afalse%7D%2C%22rs%22%3A%7B%22value%22%3Atrue%7D%2C%22fsbo%22%3A%7B%22value%22%3Afalse%7D%2C%22cmsn%22%3A%7B%22value%22%3Afalse%7D%2C%22pf%22%3A%7B%22value%22%3Afalse%7D%2C%22fsba%22%3A%7B%22value%22%3Afalse%7D%7D%2C%22isListVisible%22%3Atrue%7D&#39;,\n &#39;https://www.zillow.com/wicker-park-chicago-il/sold/16_p?/searchQueryState=%7B%22pagination%22%3A%7B%7D%2C%22usersSearchTerm%22%3A%22Wicker%20Park%2C%20Chicago%2C%20IL%22%2C%22mapBounds%22%3A%7B%22west%22%3A-87.78373829841962%2C%22east%22%3A-87.50049702644696%2C%22south%22%3A41.80392126619348%2C%22north%22%3A41.9473333009964%7D%2C%22mapZoom%22%3A12%2C%22regionSelection%22%3A%5B%7B%22regionId%22%3A7930%2C%22regionType%22%3A8%7D%5D%2C%22isMapVisible%22%3Atrue%2C%22filterState%22%3A%7B%22pmf%22%3A%7B%22value%22%3Afalse%7D%2C%22fore%22%3A%7B%22value%22%3Afalse%7D%2C%22ah%22%3A%7B%22value%22%3Atrue%7D%2C%22sort%22%3A%7B%22value%22%3A%22globalrelevanceex%22%7D%2C%22auc%22%3A%7B%22value%22%3Afalse%7D%2C%22nc%22%3A%7B%22value%22%3Afalse%7D%2C%22rs%22%3A%7B%22value%22%3Atrue%7D%2C%22fsbo%22%3A%7B%22value%22%3Afalse%7D%2C%22cmsn%22%3A%7B%22value%22%3Afalse%7D%2C%22pf%22%3A%7B%22value%22%3Afalse%7D%2C%22fsba%22%3A%7B%22value%22%3Afalse%7D%7D%2C%22isListVisible%22%3Atrue%7D&#39;,\n &#39;https://www.zillow.com/wicker-park-chicago-il/sold/17_p?/searchQueryState=%7B%22pagination%22%3A%7B%7D%2C%22usersSearchTerm%22%3A%22Wicker%20Park%2C%20Chicago%2C%20IL%22%2C%22mapBounds%22%3A%7B%22west%22%3A-87.78373829841962%2C%22east%22%3A-87.50049702644696%2C%22south%22%3A41.80392126619348%2C%22north%22%3A41.9473333009964%7D%2C%22mapZoom%22%3A12%2C%22regionSelection%22%3A%5B%7B%22regionId%22%3A7930%2C%22regionType%22%3A8%7D%5D%2C%22isMapVisible%22%3Atrue%2C%22filterState%22%3A%7B%22pmf%22%3A%7B%22value%22%3Afalse%7D%2C%22fore%22%3A%7B%22value%22%3Afalse%7D%2C%22ah%22%3A%7B%22value%22%3Atrue%7D%2C%22sort%22%3A%7B%22value%22%3A%22globalrelevanceex%22%7D%2C%22auc%22%3A%7B%22value%22%3Afalse%7D%2C%22nc%22%3A%7B%22value%22%3Afalse%7D%2C%22rs%22%3A%7B%22value%22%3Atrue%7D%2C%22fsbo%22%3A%7B%22value%22%3Afalse%7D%2C%22cmsn%22%3A%7B%22value%22%3Afalse%7D%2C%22pf%22%3A%7B%22value%22%3Afalse%7D%2C%22fsba%22%3A%7B%22value%22%3Afalse%7D%7D%2C%22isListVisible%22%3Atrue%7D&#39;,\n &#39;https://www.zillow.com/wicker-park-chicago-il/sold/18_p?/searchQueryState=%7B%22pagination%22%3A%7B%7D%2C%22usersSearchTerm%22%3A%22Wicker%20Park%2C%20Chicago%2C%20IL%22%2C%22mapBounds%22%3A%7B%22west%22%3A-87.78373829841962%2C%22east%22%3A-87.50049702644696%2C%22south%22%3A41.80392126619348%2C%22north%22%3A41.9473333009964%7D%2C%22mapZoom%22%3A12%2C%22regionSelection%22%3A%5B%7B%22regionId%22%3A7930%2C%22regionType%22%3A8%7D%5D%2C%22isMapVisible%22%3Atrue%2C%22filterState%22%3A%7B%22pmf%22%3A%7B%22value%22%3Afalse%7D%2C%22fore%22%3A%7B%22value%22%3Afalse%7D%2C%22ah%22%3A%7B%22value%22%3Atrue%7D%2C%22sort%22%3A%7B%22value%22%3A%22globalrelevanceex%22%7D%2C%22auc%22%3A%7B%22value%22%3Afalse%7D%2C%22nc%22%3A%7B%22value%22%3Afalse%7D%2C%22rs%22%3A%7B%22value%22%3Atrue%7D%2C%22fsbo%22%3A%7B%22value%22%3Afalse%7D%2C%22cmsn%22%3A%7B%22value%22%3Afalse%7D%2C%22pf%22%3A%7B%22value%22%3Afalse%7D%2C%22fsba%22%3A%7B%22value%22%3Afalse%7D%7D%2C%22isListVisible%22%3Atrue%7D&#39;,\n &#39;https://www.zillow.com/wicker-park-chicago-il/sold/19_p?/searchQueryState=%7B%22pagination%22%3A%7B%7D%2C%22usersSearchTerm%22%3A%22Wicker%20Park%2C%20Chicago%2C%20IL%22%2C%22mapBounds%22%3A%7B%22west%22%3A-87.78373829841962%2C%22east%22%3A-87.50049702644696%2C%22south%22%3A41.80392126619348%2C%22north%22%3A41.9473333009964%7D%2C%22mapZoom%22%3A12%2C%22regionSelection%22%3A%5B%7B%22regionId%22%3A7930%2C%22regionType%22%3A8%7D%5D%2C%22isMapVisible%22%3Atrue%2C%22filterState%22%3A%7B%22pmf%22%3A%7B%22value%22%3Afalse%7D%2C%22fore%22%3A%7B%22value%22%3Afalse%7D%2C%22ah%22%3A%7B%22value%22%3Atrue%7D%2C%22sort%22%3A%7B%22value%22%3A%22globalrelevanceex%22%7D%2C%22auc%22%3A%7B%22value%22%3Afalse%7D%2C%22nc%22%3A%7B%22value%22%3Afalse%7D%2C%22rs%22%3A%7B%22value%22%3Atrue%7D%2C%22fsbo%22%3A%7B%22value%22%3Afalse%7D%2C%22cmsn%22%3A%7B%22value%22%3Afalse%7D%2C%22pf%22%3A%7B%22value%22%3Afalse%7D%2C%22fsba%22%3A%7B%22value%22%3Afalse%7D%7D%2C%22isListVisible%22%3Atrue%7D&#39;,\n &#39;https://www.zillow.com/wicker-park-chicago-il/sold/20_p?/searchQueryState=%7B%22pagination%22%3A%7B%7D%2C%22usersSearchTerm%22%3A%22Wicker%20Park%2C%20Chicago%2C%20IL%22%2C%22mapBounds%22%3A%7B%22west%22%3A-87.78373829841962%2C%22east%22%3A-87.50049702644696%2C%22south%22%3A41.80392126619348%2C%22north%22%3A41.9473333009964%7D%2C%22mapZoom%22%3A12%2C%22regionSelection%22%3A%5B%7B%22regionId%22%3A7930%2C%22regionType%22%3A8%7D%5D%2C%22isMapVisible%22%3Atrue%2C%22filterState%22%3A%7B%22pmf%22%3A%7B%22value%22%3Afalse%7D%2C%22fore%22%3A%7B%22value%22%3Afalse%7D%2C%22ah%22%3A%7B%22value%22%3Atrue%7D%2C%22sort%22%3A%7B%22value%22%3A%22globalrelevanceex%22%7D%2C%22auc%22%3A%7B%22value%22%3Afalse%7D%2C%22nc%22%3A%7B%22value%22%3Afalse%7D%2C%22rs%22%3A%7B%22value%22%3Atrue%7D%2C%22fsbo%22%3A%7B%22value%22%3Afalse%7D%2C%22cmsn%22%3A%7B%22value%22%3Afalse%7D%2C%22pf%22%3A%7B%22value%22%3Afalse%7D%2C%22fsba%22%3A%7B%22value%22%3Afalse%7D%7D%2C%22isListVisible%22%3Atrue%7D&#39;]"
     },
     "metadata": {},
     "execution_count": 44
    }
   ],
   "source": [
    "search_pages_list_20"
   ]
  },
  {
   "cell_type": "code",
   "execution_count": 107,
   "metadata": {
    "tags": []
   },
   "outputs": [
    {
     "output_type": "stream",
     "name": "stdout",
     "text": "Mozilla/5.0 (Macintosh; Intel Mac OS X 10_15_6) AppleWebKit/537.36 (KHTML, like Gecko) Chrome/85.0.4183.121 Safari/537.36\n"
    }
   ],
   "source": [
    "ua = UserAgent()\n",
    "chrome_options = webdriver.ChromeOptions()  #changing attributes of driver to log on\n",
    "userAgent = 'Mozilla/5.0 (Macintosh; Intel Mac OS X 10_15_6) AppleWebKit/537.36 (KHTML, like Gecko) Chrome/85.0.4183.121 Safari/537.36'\n",
    "print(userAgent)\n",
    "chrome_options.add_argument(f'user-agent={userAgent}') #add new/change key value of user agent\n",
    "driver = webdriver.Chrome(chrome_options=chrome_options, executable_path = '/Applications/chromedriver')\n",
    "driver.get(wicker_park_url_test)\n",
    "time.sleep(15)"
   ]
  },
  {
   "cell_type": "code",
   "execution_count": 13,
   "metadata": {},
   "outputs": [],
   "source": [
    "#TESTING CELL\n",
    "\n",
    "test_html = []\n",
    "test_html_missed = []\n",
    "test_search_links = []\n",
    "test_property_links_wp = []\n",
    "test_property_links_wp_deduped = []\n",
    "\n",
    "\n",
    "def search_page_queries_wp(list):\n",
    "    '''\n",
    "    Parameters: URL (link to neighborhood search), PAGES (number of pages that are in search for neighborhood)\n",
    "\n",
    "    Function loops through number of pages, driver gets url and turns page in soup object for html parsing. \n",
    "    The div/link for loop goes through each div and appends all links on search page.\n",
    "    Links are appended to \"test_property_links_wp\" if the link contains 'https://zillow.com/homedetails/\n",
    "    Test_property_links_wp_deduped saves all unique links by casting as a set.\n",
    "    \n",
    "    Returns list of property links (for page 1 only as of no)\n",
    "    Prints length of test html to verify\n",
    "    Prints length of test html missed to verify\n",
    "    '''\n",
    "\n",
    "    for i in range(len(list)):\n",
    "        print(i)\n",
    "        try:\n",
    "            driver.get(list[i]) \n",
    "            time.sleep(15)\n",
    "            soup = BeautifulSoup(driver.page_source, 'html.parser')\n",
    "            test_html.append(soup)\n",
    "            for div in test_html:\n",
    "                for link in div.find_all('a'):\n",
    "                    test_search_links.append(f'{link.get(\"href\")}')\n",
    "            test_property_links_wp = [link for link in test_search_links if 'https://www.zillow.com/homedetails/' in link]\n",
    "            test_property_links_wp_deduped = (set(test_property_links_wp))\n",
    "        except ValueError:  ## which except errors to raise?\n",
    "            test_html_missed.append(i)\n",
    "    #pickle.dump(property_links_html, property_links_missed)  #DOESN'T WORK\n",
    "    print(len(test_html))\n",
    "    print(len(test_html_missed))\n",
    "    return test_property_links_wp_deduped\n"
   ]
  },
  {
   "cell_type": "code",
   "execution_count": 17,
   "metadata": {
    "tags": []
   },
   "outputs": [
    {
     "output_type": "stream",
     "name": "stdout",
     "text": "0\n1\n2\n3\n4\n5\n6\n7\n8\n9\n10\n11\n12\n13\n14\n15\n16\n17\n18\n24\n0\n"
    }
   ],
   "source": [
    "test_property_links_wp_deduped = search_page_queries_wp(search_pages_list_20)"
   ]
  },
  {
   "cell_type": "code",
   "execution_count": 52,
   "metadata": {
    "tags": []
   },
   "outputs": [
    {
     "output_type": "execute_result",
     "data": {
      "text/plain": "760"
     },
     "metadata": {},
     "execution_count": 52
    }
   ],
   "source": [
    "# shows 760 listing links deduped in Wicker Park\n",
    "len(test_property_links_wp_deduped)"
   ]
  },
  {
   "cell_type": "code",
   "execution_count": 23,
   "metadata": {},
   "outputs": [],
   "source": [
    "# pickles Wicker Park listing links\n",
    "with open('test_property_links_wp_760.pkl', 'wb') as f:\n",
    "     pickle.dump(test_property_links_wp_deduped, f)"
   ]
  },
  {
   "cell_type": "code",
   "execution_count": 32,
   "metadata": {},
   "outputs": [],
   "source": [
    "#perform same search for Bucktown\n",
    "#must be careful of placement for '?/' when concatting URLs\n",
    "\n",
    "base_url_bucktown = 'https://www.zillow.com/bucktown-chicago-il/sold/'\n",
    "\n",
    "base_url_bucktown_2 = '?/searchQueryState=%7B%22usersSearchTerm%22%3A%22bucktown%2C%20chicago%22%2C%22mapBounds%22%3A%7B%22west%22%3A-87.70765815899658%2C%22east%22%3A-87.63684784100342%2C%22south%22%3A41.885741173829345%2C%22north%22%3A41.95694886822212%7D%2C%22mapZoom%22%3A14%2C%22regionSelection%22%3A%5B%7B%22regionId%22%3A137603%2C%22regionType%22%3A8%7D%5D%2C%22isMapVisible%22%3Atrue%2C%22filterState%22%3A%7B%22pmf%22%3A%7B%22value%22%3Afalse%7D%2C%22fore%22%3A%7B%22value%22%3Afalse%7D%2C%22ah%22%3A%7B%22value%22%3Atrue%7D%2C%22sort%22%3A%7B%22value%22%3A%22globalrelevanceex%22%7D%2C%22auc%22%3A%7B%22value%22%3Afalse%7D%2C%22nc%22%3A%7B%22value%22%3Afalse%7D%2C%22rs%22%3A%7B%22value%22%3Atrue%7D%2C%22fsbo%22%3A%7B%22value%22%3Afalse%7D%2C%22cmsn%22%3A%7B%22value%22%3Afalse%7D%2C%22pf%22%3A%7B%22value%22%3Afalse%7D%2C%22fsba%22%3A%7B%22value%22%3Afalse%7D%7D%2C%22isListVisible%22%3Atrue%2C%22pagination%22%3A%7B%22currentPage%22%3A4%7D%7D'\n",
    "\n",
    "search_pages_list_bucktown_20 = []\n",
    "\n",
    "def first_20_pages_bucktown():\n",
    "    for i in range(2,21):\n",
    "        search_pages_list_bucktown_20.append(base_url_bucktown + str(i) + '_p' + base_url_bucktown_2)\n"
   ]
  },
  {
   "cell_type": "code",
   "execution_count": 81,
   "metadata": {},
   "outputs": [
    {
     "output_type": "execute_result",
     "data": {
      "text/plain": "[&#39;https://www.zillow.com/bucktown-chicago-il/sold/2_p?/searchQueryState=%7B%22usersSearchTerm%22%3A%22bucktown%2C%20chicago%22%2C%22mapBounds%22%3A%7B%22west%22%3A-87.70765815899658%2C%22east%22%3A-87.63684784100342%2C%22south%22%3A41.885741173829345%2C%22north%22%3A41.95694886822212%7D%2C%22mapZoom%22%3A14%2C%22regionSelection%22%3A%5B%7B%22regionId%22%3A137603%2C%22regionType%22%3A8%7D%5D%2C%22isMapVisible%22%3Atrue%2C%22filterState%22%3A%7B%22pmf%22%3A%7B%22value%22%3Afalse%7D%2C%22fore%22%3A%7B%22value%22%3Afalse%7D%2C%22ah%22%3A%7B%22value%22%3Atrue%7D%2C%22sort%22%3A%7B%22value%22%3A%22globalrelevanceex%22%7D%2C%22auc%22%3A%7B%22value%22%3Afalse%7D%2C%22nc%22%3A%7B%22value%22%3Afalse%7D%2C%22rs%22%3A%7B%22value%22%3Atrue%7D%2C%22fsbo%22%3A%7B%22value%22%3Afalse%7D%2C%22cmsn%22%3A%7B%22value%22%3Afalse%7D%2C%22pf%22%3A%7B%22value%22%3Afalse%7D%2C%22fsba%22%3A%7B%22value%22%3Afalse%7D%7D%2C%22isListVisible%22%3Atrue%2C%22pagination%22%3A%7B%22currentPage%22%3A4%7D%7D&#39;,\n &#39;https://www.zillow.com/bucktown-chicago-il/sold/3_p?/searchQueryState=%7B%22usersSearchTerm%22%3A%22bucktown%2C%20chicago%22%2C%22mapBounds%22%3A%7B%22west%22%3A-87.70765815899658%2C%22east%22%3A-87.63684784100342%2C%22south%22%3A41.885741173829345%2C%22north%22%3A41.95694886822212%7D%2C%22mapZoom%22%3A14%2C%22regionSelection%22%3A%5B%7B%22regionId%22%3A137603%2C%22regionType%22%3A8%7D%5D%2C%22isMapVisible%22%3Atrue%2C%22filterState%22%3A%7B%22pmf%22%3A%7B%22value%22%3Afalse%7D%2C%22fore%22%3A%7B%22value%22%3Afalse%7D%2C%22ah%22%3A%7B%22value%22%3Atrue%7D%2C%22sort%22%3A%7B%22value%22%3A%22globalrelevanceex%22%7D%2C%22auc%22%3A%7B%22value%22%3Afalse%7D%2C%22nc%22%3A%7B%22value%22%3Afalse%7D%2C%22rs%22%3A%7B%22value%22%3Atrue%7D%2C%22fsbo%22%3A%7B%22value%22%3Afalse%7D%2C%22cmsn%22%3A%7B%22value%22%3Afalse%7D%2C%22pf%22%3A%7B%22value%22%3Afalse%7D%2C%22fsba%22%3A%7B%22value%22%3Afalse%7D%7D%2C%22isListVisible%22%3Atrue%2C%22pagination%22%3A%7B%22currentPage%22%3A4%7D%7D&#39;,\n &#39;https://www.zillow.com/bucktown-chicago-il/sold/4_p?/searchQueryState=%7B%22usersSearchTerm%22%3A%22bucktown%2C%20chicago%22%2C%22mapBounds%22%3A%7B%22west%22%3A-87.70765815899658%2C%22east%22%3A-87.63684784100342%2C%22south%22%3A41.885741173829345%2C%22north%22%3A41.95694886822212%7D%2C%22mapZoom%22%3A14%2C%22regionSelection%22%3A%5B%7B%22regionId%22%3A137603%2C%22regionType%22%3A8%7D%5D%2C%22isMapVisible%22%3Atrue%2C%22filterState%22%3A%7B%22pmf%22%3A%7B%22value%22%3Afalse%7D%2C%22fore%22%3A%7B%22value%22%3Afalse%7D%2C%22ah%22%3A%7B%22value%22%3Atrue%7D%2C%22sort%22%3A%7B%22value%22%3A%22globalrelevanceex%22%7D%2C%22auc%22%3A%7B%22value%22%3Afalse%7D%2C%22nc%22%3A%7B%22value%22%3Afalse%7D%2C%22rs%22%3A%7B%22value%22%3Atrue%7D%2C%22fsbo%22%3A%7B%22value%22%3Afalse%7D%2C%22cmsn%22%3A%7B%22value%22%3Afalse%7D%2C%22pf%22%3A%7B%22value%22%3Afalse%7D%2C%22fsba%22%3A%7B%22value%22%3Afalse%7D%7D%2C%22isListVisible%22%3Atrue%2C%22pagination%22%3A%7B%22currentPage%22%3A4%7D%7D&#39;]"
     },
     "metadata": {},
     "execution_count": 81
    }
   ],
   "source": []
  },
  {
   "cell_type": "code",
   "execution_count": 86,
   "metadata": {},
   "outputs": [],
   "source": [
    "test_html_bt = []\n",
    "test_html_missed_bt = []\n",
    "\n",
    "test_search_links_bt = []\n",
    "test_property_links_bt = []\n",
    "test_property_links_bt_deduped = []\n",
    "\n",
    "\n",
    "def search_page_queries_bt(list):\n",
    "    '''\n",
    "    Parameters: URL (link to neighborhood search), PAGES (number of pages that are in search for neighborhood)\n",
    "\n",
    "    Function loops through number of pages, driver gets url and turns page in soup object for html parsing. \n",
    "    The div/link for loop goes through each div and appends all links on search page.\n",
    "    Links are appended to \"test_property_links_wp\" if the link contains 'https://zillow.com/homedetails/\n",
    "    Test_property_links_wp_deduped saves all unique links by casting as a set.\n",
    "    \n",
    "    Returns list of property links (for page 1 only as of no)\n",
    "    Prints length of test html to verify\n",
    "    Prints length of test html missed to verify\n",
    "    '''\n",
    "\n",
    "    for i in range(len(list)):\n",
    "        #print(i)  #checks looping\n",
    "        try:\n",
    "            driver.get(list[i]) \n",
    "            time.sleep(7)\n",
    "            soup = BeautifulSoup(driver.page_source, 'html.parser')\n",
    "            test_html_bt.append(soup)\n",
    "            for div in test_html_bt:\n",
    "                for link in div.find_all('a'):\n",
    "                    test_search_links_bt.append(f'{link.get(\"href\")}')\n",
    "            test_property_links_bt = [link for link in test_search_links_bt if 'https://www.zillow.com/homedetails/' in link]\n",
    "            test_property_links_bt_deduped = (set(test_property_links_bt))\n",
    "        except ValueError:  ## which except errors to raise?\n",
    "            test_html_missed_bt.append(i)\n",
    "    #pickle.dump(property_links_html, property_links_missed)  #DOESN'T WORK\n",
    "    print(len(test_html_bt), \"is the length of test_html_bt.\")\n",
    "    print(len(test_html_missed_bt), \"is the length of test_html_missed_bt.\")\n",
    "    return test_property_links_bt_deduped"
   ]
  },
  {
   "cell_type": "code",
   "execution_count": 87,
   "metadata": {
    "tags": []
   },
   "outputs": [
    {
     "output_type": "stream",
     "name": "stdout",
     "text": "0\n1\n2\n3\n4\n5\n6\n7\n8\n9\n10\n11\n12\n13\n14\n15\n16\n17\n18\n19 is the length of test_html_bt.\n0 is the length of test_html_missed_bt.\n"
    }
   ],
   "source": [
    "test_property_links_bt_deduped = search_page_queries_bt(search_pages_list_bucktown_20)"
   ]
  },
  {
   "cell_type": "code",
   "execution_count": 88,
   "metadata": {},
   "outputs": [
    {
     "output_type": "execute_result",
     "data": {
      "text/plain": "758"
     },
     "metadata": {},
     "execution_count": 88
    }
   ],
   "source": [
    "#number of Bucktown listing links deduped is 758\n",
    "len(test_property_links_bt_deduped)"
   ]
  },
  {
   "cell_type": "code",
   "execution_count": 90,
   "metadata": {},
   "outputs": [],
   "source": [
    "#pickles 758 Bucktown listing links\n",
    "with open('test_property_links_bt_final_758.pkl', 'wb') as f:\n",
    "     pickle.dump(test_property_links_bt_deduped, f)"
   ]
  },
  {
   "cell_type": "code",
   "execution_count": 92,
   "metadata": {},
   "outputs": [],
   "source": [
    "# combines Bucktown and Wicker Park listing links\n",
    "wp_bt_listing_links = list(test_property_links_wp_deduped) + list(test_property_links_bt_deduped)"
   ]
  },
  {
   "cell_type": "code",
   "execution_count": 97,
   "metadata": {},
   "outputs": [
    {
     "output_type": "execute_result",
     "data": {
      "text/plain": "1518"
     },
     "metadata": {},
     "execution_count": 97
    }
   ],
   "source": [
    "#total of 1518 listings in Wicker Park/Bucktown\n",
    "len(set(wp_bt_listing_links))"
   ]
  },
  {
   "cell_type": "code",
   "execution_count": 300,
   "metadata": {
    "tags": []
   },
   "outputs": [
    {
     "output_type": "stream",
     "name": "stdout",
     "text": "[&#39;https://www.zillow.com/homedetails/2239-W-North-Ave-APT-3B-Chicago-IL-60647/2082779165_zpid/&#39;, &#39;https://www.zillow.com/homedetails/2032-W-Pierce-Ave-APT-3W-Chicago-IL-60622/2093082151_zpid/&#39;, &#39;https://www.zillow.com/homedetails/1904-W-Division-St-Chicago-IL-60622/253420122_zpid/&#39;, &#39;https://www.zillow.com/homedetails/1248-N-Hoyne-Ave-2-Chicago-IL-60622/2110537262_zpid/&#39;, &#39;https://www.zillow.com/homedetails/1233-N-Paulina-St-Chicago-IL-60622/3860231_zpid/&#39;]\n"
    }
   ],
   "source": [
    "print(wp_bt_listing_links[0:5])"
   ]
  },
  {
   "cell_type": "code",
   "execution_count": 98,
   "metadata": {},
   "outputs": [],
   "source": [
    "# pickles combination of listing links\n",
    "with open('wp_bt_listing_links.pkl', 'wb') as f:\n",
    "     pickle.dump(wp_bt_listing_links, f)"
   ]
  },
  {
   "cell_type": "code",
   "execution_count": 20,
   "metadata": {
    "tags": []
   },
   "outputs": [
    {
     "output_type": "stream",
     "name": "stdout",
     "text": "Mozilla/5.0 (Macintosh; Intel Mac OS X 10_15_6) AppleWebKit/537.36 (KHTML, like Gecko) Chrome/85.0.4183.121 Safari/537.36\n"
    }
   ],
   "source": [
    "#initiates driver\n",
    "\n",
    "ua = UserAgent()\n",
    "chrome_options = webdriver.ChromeOptions()  #changing attributes of driver to log on\n",
    "userAgent = 'Mozilla/5.0 (Macintosh; Intel Mac OS X 10_15_6) AppleWebKit/537.36 (KHTML, like Gecko) Chrome/85.0.4183.121 Safari/537.36'\n",
    "print(userAgent)\n",
    "chrome_options.add_argument(f'user-agent={userAgent}') #add new/change key value of user agent\n",
    "driver = webdriver.Chrome(chrome_options=chrome_options, executable_path = '/Applications/chromedriver')\n",
    "driver.get(wicker_park_url_test)\n",
    "time.sleep(15)"
   ]
  },
  {
   "cell_type": "code",
   "execution_count": 13,
   "metadata": {},
   "outputs": [
    {
     "output_type": "execute_result",
     "data": {
      "text/plain": "1518"
     },
     "metadata": {},
     "execution_count": 13
    }
   ],
   "source": [
    "len(wp_bt_listing_links)"
   ]
  },
  {
   "cell_type": "code",
   "execution_count": 264,
   "metadata": {},
   "outputs": [],
   "source": [
    "#Ran first function with \"listing_html\" and \"listing_html_missed as empty\"\n",
    "\n",
    "#commented out the lists for future iterations so it didn't reset the list of html\n",
    "\n",
    "#listing_html = []\n"
   ]
  },
  {
   "cell_type": "code",
   "execution_count": 26,
   "metadata": {},
   "outputs": [],
   "source": [
    "#This scrape is ran multiple times over to get all listing information without encountering Recaptcha.\n",
    "listing_html_missed = []\n",
    "\n",
    "def scrape_listing_html_data(list):\n",
    "    '''\n",
    "    parameters: list (of listing links)\n",
    "\n",
    "    returns: list of html for all listings\n",
    "    '''\n",
    "\n",
    "    for i in range(1401,1518):\n",
    "        #print(i)\n",
    "        try:\n",
    "            driver.get(list[i]) \n",
    "            time.sleep(7)\n",
    "            listing_html.append(driver.page_source)\n",
    "        except ValueError:\n",
    "            listing_html_missed.append(i)\n",
    "    print(len(listing_html), \"is the length of listing_html.\")\n",
    "    print(len(listing_html_missed), \"is the length of listing_html_missed.\")\n",
    "    return listing_html\n"
   ]
  },
  {
   "cell_type": "code",
   "execution_count": 27,
   "metadata": {
    "tags": []
   },
   "outputs": [
    {
     "output_type": "stream",
     "name": "stdout",
     "text": "1518 is the length of listing_html.\n0 is the length of listing_html_missed.\n"
    }
   ],
   "source": [
    "#Stores function output to listing_html \n",
    "listing_html = scrape_listing_html_data(wp_bt_listing_links)"
   ]
  },
  {
   "cell_type": "code",
   "execution_count": 28,
   "metadata": {},
   "outputs": [
    {
     "output_type": "execute_result",
     "data": {
      "text/plain": "0"
     },
     "metadata": {},
     "execution_count": 28
    }
   ],
   "source": [
    "#Checks length of list for unsuccessful scrapes of listing pages\n",
    "len(listing_html_missed)"
   ]
  },
  {
   "cell_type": "code",
   "execution_count": 29,
   "metadata": {},
   "outputs": [
    {
     "output_type": "execute_result",
     "data": {
      "text/plain": "1518"
     },
     "metadata": {},
     "execution_count": 29
    }
   ],
   "source": [
    "#Checks length of list for successful scrapes of listing pages\n",
    "len(listing_html)"
   ]
  },
  {
   "cell_type": "code",
   "execution_count": 24,
   "metadata": {},
   "outputs": [
    {
     "output_type": "execute_result",
     "data": {
      "text/plain": "1401"
     },
     "metadata": {},
     "execution_count": 24
    }
   ],
   "source": [
    "#recaptcha at 129, confirming 129 listings\n",
    "#next run, confirmed 220 listings\n",
    "#next run, confirmed 319 listings\n",
    "#next run, confirmed 404 listings\n",
    "#next run, confirmed 499 listings\n",
    "#next run, confirmed 583 listings\n",
    "#next run, confirmed 649 listings\n",
    "#next run, confirmed 749 listings\n",
    "#next run, confirmed 848 listings\n",
    "#next run, confirmed 1000 listings  #STARTED AT 1000 pickle\n",
    "#next run, confirmed 1200 listings\n",
    "#next run, confirmed 1304 listings\n",
    "#next run, confirmed 1401 listings\n",
    "#next run, confirmed 1518 listings\n",
    "len(listing_html)"
   ]
  },
  {
   "cell_type": "code",
   "execution_count": 30,
   "metadata": {},
   "outputs": [],
   "source": [
    "#pickle dump for listings after each function execution\n",
    "with open('listing_html_1_1518.pkl', 'wb') as f:\n",
    "     pickle.dump(listing_html, f)"
   ]
  },
  {
   "source": [
    "## Scraping for West Town Data\n"
   ],
   "cell_type": "markdown",
   "metadata": {}
  },
  {
   "cell_type": "code",
   "execution_count": 61,
   "metadata": {},
   "outputs": [],
   "source": [
    "\n",
    "#concatting listing of 20 search pages for West Town\n",
    "\n",
    "base_url_westtown = 'https://www.zillow.com/west-town-chicago-il/sold/'\n",
    "\n",
    "base_url_westtown_2 = '?/?searchQueryState=%7B%22pagination%22%3A%7B%22currentPage%22%3A2%7D%2C%22usersSearchTerm%22%3A%22West%20Town%2C%20Chicago%2C%20IL%22%2C%22mapBounds%22%3A%7B%22west%22%3A-87.70083958752443%2C%22east%22%3A-87.6416164124756%2C%22south%22%3A41.868816104048506%2C%22north%22%3A41.909134352186456%7D%2C%22regionSelection%22%3A%5B%7B%22regionId%22%3A269615%2C%22regionType%22%3A8%7D%5D%2C%22isMapVisible%22%3Atrue%2C%22filterState%22%3A%7B%22fsba%22%3A%7B%22value%22%3Afalse%7D%2C%22fsbo%22%3A%7B%22value%22%3Afalse%7D%2C%22nc%22%3A%7B%22value%22%3Afalse%7D%2C%22fore%22%3A%7B%22value%22%3Afalse%7D%2C%22cmsn%22%3A%7B%22value%22%3Afalse%7D%2C%22auc%22%3A%7B%22value%22%3Afalse%7D%2C%22pmf%22%3A%7B%22value%22%3Afalse%7D%2C%22pf%22%3A%7B%22value%22%3Afalse%7D%2C%22rs%22%3A%7B%22value%22%3Atrue%7D%2C%22ah%22%3A%7B%22value%22%3Atrue%7D%7D%2C%22isListVisible%22%3Atrue%2C%22mapZoom%22%3A14%7D'\n",
    "\n",
    "search_pages_list_westtown_19 = []\n",
    "\n",
    "def first_19_pages_westtown():\n",
    "\n",
    "    for i in range(2,21):\n",
    "        search_pages_list_westtown_19.append(base_url_westtown + str(i) + '_p' + base_url_westtown_2)\n"
   ]
  },
  {
   "cell_type": "code",
   "execution_count": 62,
   "metadata": {},
   "outputs": [],
   "source": [
    "#execute function\n",
    "\n",
    "first_19_pages_westtown()"
   ]
  },
  {
   "cell_type": "code",
   "execution_count": 63,
   "metadata": {
    "tags": []
   },
   "outputs": [
    {
     "output_type": "execute_result",
     "data": {
      "text/plain": "19"
     },
     "metadata": {},
     "execution_count": 63
    }
   ],
   "source": [
    "#confirms 19 search pages were generated\n",
    "\n",
    "len(search_pages_list_westtown_19)"
   ]
  },
  {
   "cell_type": "code",
   "execution_count": 110,
   "metadata": {
    "tags": []
   },
   "outputs": [
    {
     "output_type": "stream",
     "name": "stdout",
     "text": "Mozilla/5.0 (Macintosh; Intel Mac OS X 10_15_6) AppleWebKit/537.36 (KHTML, like Gecko) Chrome/85.0.4183.121 Safari/537.36\n"
    }
   ],
   "source": [
    "#initiates driver\n",
    "\n",
    "ua = UserAgent()\n",
    "chrome_options = webdriver.ChromeOptions()  #changing attributes of driver to log on\n",
    "userAgent = 'Mozilla/5.0 (Macintosh; Intel Mac OS X 10_15_6) AppleWebKit/537.36 (KHTML, like Gecko) Chrome/85.0.4183.121 Safari/537.36'\n",
    "print(userAgent)\n",
    "chrome_options.add_argument(f'user-agent={userAgent}') #add new/change key value of user agent\n",
    "driver = webdriver.Chrome(chrome_options=chrome_options, executable_path = '/Applications/chromedriver')\n",
    "driver.get(wicker_park_url_test)\n",
    "time.sleep(15)"
   ]
  },
  {
   "cell_type": "code",
   "execution_count": 96,
   "metadata": {},
   "outputs": [],
   "source": [
    "links_wt = []\n",
    "links_missed_wt = []\n",
    "\n",
    "search_links_wt = []\n",
    "property_links_wt = []\n",
    "property_links_wt_deduped = []\n",
    "\n",
    "\n",
    "def search_page_queries_wt(list):\n",
    "    '''\n",
    "    Parameters: URL (link to neighborhood search), PAGES (number of pages that are in search for neighborhood)\n",
    "\n",
    "    Function loops through number of pages, driver gets url and turns page in soup object for html parsing. \n",
    "    The div/link for loop goes through each div and appends all links on search page.\n",
    "    Links are appended to \"test_property_links_wt\" if the link contains 'https://zillow.com/homedetails/\n",
    "    Test_property_links_wp_deduped saves all unique links by casting as a set.\n",
    "    \n",
    "    Returns list of property links (for page 1 only as of no)\n",
    "    Prints length of test html to verify\n",
    "    Prints length of test html missed to verify\n",
    "    '''\n",
    "\n",
    "    for i in range(len(list)):\n",
    "        #print(i)  #checks looping\n",
    "        try:\n",
    "            driver.get(list[i]) \n",
    "            time.sleep(7)\n",
    "            soup = BeautifulSoup(driver.page_source, 'html.parser')\n",
    "            links_wt.append(soup)\n",
    "            for div in links_wt:\n",
    "                for link in div.find_all('a'):\n",
    "                    search_links_wt.append(f'{link.get(\"href\")}')\n",
    "            property_links_wt = [link for link in search_links_wt if 'https://www.zillow.com/homedetails/' in link]\n",
    "            property_links_wt_deduped = (set(property_links_wt))\n",
    "        except ValueError:  ## which except errors to raise?\n",
    "            links_missed_wt.append(i)\n",
    "    #pickle.dump(property_links_html, property_links_missed)  #DOESN'T WORK\n",
    "    print(len(links_wt), \"is the length of html_wt.\")\n",
    "    print(len(links_missed_wt), \"is the length of html_missed_wt.\")\n",
    "    return property_links_wt_deduped"
   ]
  },
  {
   "cell_type": "code",
   "execution_count": 98,
   "metadata": {
    "tags": []
   },
   "outputs": [
    {
     "output_type": "stream",
     "name": "stdout",
     "text": "19 is the length of html_wt.\n0 is the length of html_missed_wt.\n"
    }
   ],
   "source": [
    "property_links_wt_deduped = search_page_queries_wt(search_pages_list_westtown_19)"
   ]
  },
  {
   "cell_type": "code",
   "execution_count": 100,
   "metadata": {},
   "outputs": [
    {
     "output_type": "execute_result",
     "data": {
      "text/plain": "756"
     },
     "metadata": {},
     "execution_count": 100
    }
   ],
   "source": [
    "#confirming 755 unique listing links in Westtown\n",
    "\n",
    "len(property_links_wt_deduped)"
   ]
  },
  {
   "cell_type": "code",
   "execution_count": 104,
   "metadata": {},
   "outputs": [],
   "source": [
    "#change back to list type for iteration\n",
    "property_links_wt_deduped = list(property_links_wt_deduped)"
   ]
  },
  {
   "cell_type": "code",
   "execution_count": 105,
   "metadata": {},
   "outputs": [
    {
     "output_type": "execute_result",
     "data": {
      "text/plain": "list"
     },
     "metadata": {},
     "execution_count": 105
    }
   ],
   "source": [
    "type(property_links_wt_deduped)"
   ]
  },
  {
   "cell_type": "code",
   "execution_count": 106,
   "metadata": {},
   "outputs": [],
   "source": [
    "with open('property_links_wt_756.pkl', 'wb') as f:\n",
    "     pickle.dump(property_links_wt_deduped, f)"
   ]
  },
  {
   "cell_type": "code",
   "execution_count": 102,
   "metadata": {},
   "outputs": [],
   "source": [
    "#creates an empty list for storing Westtown listing HTML\n",
    "listing_html_wt = []"
   ]
  },
  {
   "cell_type": "code",
   "execution_count": 127,
   "metadata": {},
   "outputs": [],
   "source": [
    "listing_html_missed_wt = []\n",
    "\n",
    "def scrape_listing_html_data_wt(list):\n",
    "    '''\n",
    "    parameters: list (of listing links) in Westtown\n",
    "\n",
    "    returns: list of html for all listings in Westtown\n",
    "    '''\n",
    "\n",
    "    for i in range(520, 756):\n",
    "        #print(i)\n",
    "        try:\n",
    "            driver.get(list[i]) \n",
    "            time.sleep(7)\n",
    "            listing_html_wt.append(driver.page_source)\n",
    "        except ValueError:\n",
    "            listing_html_missed_wt.append(i)\n",
    "    print(len(listing_html_wt), \"is the length of listing_html.\")\n",
    "    print(len(listing_html_missed_wt), \"is the length of listing_html_missed.\")\n",
    "    return listing_html_wt\n"
   ]
  },
  {
   "cell_type": "code",
   "execution_count": 128,
   "metadata": {
    "tags": []
   },
   "outputs": [
    {
     "output_type": "stream",
     "name": "stdout",
     "text": "755 is the length of listing_html.\n0 is the length of listing_html_missed.\n"
    }
   ],
   "source": [
    "listing_html_wt = scrape_listing_html_data_wt(property_links_wt_deduped)"
   ]
  },
  {
   "cell_type": "code",
   "execution_count": 129,
   "metadata": {},
   "outputs": [
    {
     "output_type": "execute_result",
     "data": {
      "text/plain": "755"
     },
     "metadata": {},
     "execution_count": 129
    }
   ],
   "source": [
    "len(listing_html_wt)"
   ]
  },
  {
   "cell_type": "code",
   "execution_count": 130,
   "metadata": {},
   "outputs": [],
   "source": [
    "#pickling links through each run\n",
    "\n",
    "with open('listing_html_wt_1_755.pkl', 'wb') as f:\n",
    "     pickle.dump(listing_html_wt, f)"
   ]
  },
  {
   "cell_type": "code",
   "execution_count": 2,
   "metadata": {},
   "outputs": [],
   "source": [
    "#opening pickle of listings from WP and BT\n",
    "infile_wp_bt = open('listing_html_1_1518.pkl', 'rb')\n",
    "listing_html_wp_bt = pickle.load(infile_wp_bt)"
   ]
  },
  {
   "cell_type": "code",
   "execution_count": 3,
   "metadata": {},
   "outputs": [],
   "source": [
    "#opening pickle of listings from WT\n",
    "\n",
    "infile_wt = open('listing_html_wt_1_755.pkl', 'rb')\n",
    "listing_html_wt_1_755_pk = pickle.load(infile_wt)"
   ]
  },
  {
   "cell_type": "code",
   "execution_count": 8,
   "metadata": {},
   "outputs": [],
   "source": [
    "#combining two lists of HTML\n",
    "listing_html_wp_bt_wt = listing_html_wp_bt + listing_html_wt_1_755_pk"
   ]
  },
  {
   "cell_type": "code",
   "execution_count": 11,
   "metadata": {},
   "outputs": [
    {
     "output_type": "execute_result",
     "data": {
      "text/plain": "2273"
     },
     "metadata": {},
     "execution_count": 11
    }
   ],
   "source": [
    "#confirming the length of the list\n",
    "len(listing_html_wp_bt_wt)"
   ]
  },
  {
   "cell_type": "code",
   "execution_count": 10,
   "metadata": {},
   "outputs": [],
   "source": [
    "#pickling all 2,273 listing HTML for WP, BT, WT\n",
    "with open('listing_html_COMBINED.pkl', 'wb') as f:\n",
    "     pickle.dump(listing_html_wp_bt_wt, f)"
   ]
  },
  {
   "cell_type": "code",
   "execution_count": 4,
   "metadata": {},
   "outputs": [],
   "source": [
    "infile = open('wp_bt_listing_links.pkl', 'rb')\n",
    "wp_bt_listing_links = pickle.load(infile)"
   ]
  },
  {
   "cell_type": "code",
   "execution_count": 6,
   "metadata": {
    "tags": []
   },
   "outputs": [
    {
     "output_type": "execute_result",
     "data": {
      "text/plain": "[&#39;https://www.zillow.com/homedetails/2239-W-North-Ave-APT-3B-Chicago-IL-60647/2082779165_zpid/&#39;,\n &#39;https://www.zillow.com/homedetails/2032-W-Pierce-Ave-APT-3W-Chicago-IL-60622/2093082151_zpid/&#39;,\n &#39;https://www.zillow.com/homedetails/1904-W-Division-St-Chicago-IL-60622/253420122_zpid/&#39;,\n &#39;https://www.zillow.com/homedetails/1248-N-Hoyne-Ave-2-Chicago-IL-60622/2110537262_zpid/&#39;,\n &#39;https://www.zillow.com/homedetails/1233-N-Paulina-St-Chicago-IL-60622/3860231_zpid/&#39;,\n &#39;https://www.zillow.com/homedetails/1519-N-Wood-St-2-Chicago-IL-60622/101437542_zpid/&#39;,\n &#39;https://www.zillow.com/homedetails/1904-W-Division-St-3S-Chicago-IL-60622/253421610_zpid/&#39;,\n &#39;https://www.zillow.com/homedetails/1419-N-Wood-St-2-Chicago-IL-60622/62012260_zpid/&#39;,\n &#39;https://www.zillow.com/homedetails/1612-W-Pierce-Ave-UNIT-C-Chicago-IL-60622/2142891557_zpid/&#39;,\n &#39;https://www.zillow.com/homedetails/2038-W-Crystal-St-1-Chicago-IL-60622/123561291_zpid/&#39;,\n &#39;https://www.zillow.com/homedetails/1353-N-Leavitt-St-2-Chicago-IL-60622/89938024_zpid/&#39;,\n &#39;https://www.zillow.com/homedetails/1945-W-Evergreen-Ave-Chicago-IL-60622/3860093_zpid/&#39;,\n &#39;https://www.zillow.com/homedetails/1243-N-Wolcott-Ave-APT-5-Chicago-IL-60622/61960655_zpid/&#39;,\n &#39;https://www.zillow.com/homedetails/1530-N-Elk-Grove-Ave-APT-M-Chicago-IL-60622/3859881_zpid/&#39;,\n &#39;https://www.zillow.com/homedetails/2117-W-Crystal-St-APT-1-Chicago-IL-60622/70449020_zpid/&#39;,\n &#39;https://www.zillow.com/homedetails/1248-N-Hoyne-Ave-2-Chicago-IL-60622/54537166_zpid/&#39;,\n &#39;https://www.zillow.com/homedetails/2020-W-Pierce-Ave-APT-6-Chicago-IL-60622/70465151_zpid/&#39;,\n &#39;https://www.zillow.com/homedetails/1353-N-Leavitt-St-G-2-Chicago-IL-60622/89949542_zpid/&#39;,\n &#39;https://www.zillow.com/homedetails/1630-W-Le-Moyne-St-1-Chicago-IL-60622/245564357_zpid/&#39;,\n &#39;https://www.zillow.com/homedetails/1267-N-Honore-St-APT-3-Chicago-IL-60622/2089752267_zpid/&#39;,\n &#39;https://www.zillow.com/homedetails/1378-N-Wolcott-Ave-APT-1C-Chicago-IL-60622/89887509_zpid/&#39;,\n &#39;https://www.zillow.com/homedetails/1406-N-Paulina-St-1-Chicago-IL-60622/3860127_zpid/&#39;,\n &#39;https://www.zillow.com/homedetails/1619-W-Le-Moyne-St-APT-1-Chicago-IL-60622/60266587_zpid/&#39;,\n &#39;https://www.zillow.com/homedetails/2026-W-Pierce-Ave-7-Chicago-IL-60622/61960629_zpid/&#39;,\n &#39;https://www.zillow.com/homedetails/1417-N-Wicker-Park-Ave-Chicago-IL-60622/2083102533_zpid/&#39;,\n &#39;https://www.zillow.com/homedetails/1555-N-Wood-St-G-1-Chicago-IL-60622/80814695_zpid/&#39;,\n &#39;https://www.zillow.com/homedetails/1464-N-Paulina-St-Chicago-IL-60622/89964499_zpid/&#39;,\n &#39;https://www.zillow.com/homedetails/1313-N-Wood-St-C-Chicago-IL-60622/3860146_zpid/&#39;,\n &#39;https://www.zillow.com/homedetails/1904-W-Division-St-2N-Chicago-IL-60622/253422941_zpid/&#39;,\n &#39;https://www.zillow.com/homedetails/1441-N-Wicker-Park-Ave-UNIT-4N-Chicago-IL-60622/70465244_zpid/&#39;,\n &#39;https://www.zillow.com/homedetails/1720-W-Julian-St-Chicago-IL-60622/101334676_zpid/&#39;,\n &#39;https://www.zillow.com/homedetails/1531-N-Bell-Ave-Chicago-IL-60622/158771675_zpid/&#39;,\n &#39;https://www.zillow.com/homedetails/2035-W-Crystal-St-3-Chicago-IL-60622/65564920_zpid/&#39;,\n &#39;https://www.zillow.com/homedetails/1624-W-Pierce-Ave-Chicago-IL-60622/306329629_zpid/&#39;,\n &#39;https://www.zillow.com/homedetails/1641-W-North-Ave-APT-2E-Chicago-IL-60622/60266570_zpid/&#39;,\n &#39;https://www.zillow.com/homedetails/1504-N-Paulina-St-Chicago-IL-60622/2131544342_zpid/&#39;,\n &#39;https://www.zillow.com/homedetails/1733-W-Pierce-Ave-Chicago-IL-60622/2111808177_zpid/&#39;,\n &#39;https://www.zillow.com/homedetails/2026-W-Pierce-Ave-6-Chicago-IL-60622/2089994892_zpid/&#39;,\n &#39;https://www.zillow.com/homedetails/1843-W-North-Ave-APT-2W-Chicago-IL-60622/89957817_zpid/&#39;,\n &#39;https://www.zillow.com/homedetails/1217-N-Paulina-St-Chicago-IL-60622/2090494422_zpid/&#39;,\n &#39;https://www.zillow.com/homedetails/1319-N-Oakley-Blvd-Chicago-IL-60622/158772026_zpid/&#39;,\n &#39;https://www.zillow.com/homedetails/1321-N-Bell-Ave-Chicago-IL-60622/3859770_zpid/&#39;,\n &#39;https://www.zillow.com/homedetails/1261-N-Paulina-St-APT-8-Chicago-IL-60622/2090760334_zpid/&#39;,\n &#39;https://www.zillow.com/homedetails/2013-W-Evergreen-Ave-1-Chicago-IL-60622/2090837790_zpid/&#39;,\n &#39;https://www.zillow.com/homedetails/2124-W-Division-St-1-Chicago-IL-60622/2140376638_zpid/&#39;,\n &#39;https://www.zillow.com/homedetails/2022-W-Potomac-Ave-Chicago-IL-60622/2089987800_zpid/&#39;,\n &#39;https://www.zillow.com/homedetails/1300-N-Claremont-Ave-2W-Chicago-IL-60622/2079870048_zpid/&#39;,\n &#39;https://www.zillow.com/homedetails/1732-W-Potomac-Ave-Chicago-IL-60622/3860208_zpid/&#39;,\n &#39;https://www.zillow.com/homedetails/2124-W-Division-St-APT-1-Chicago-IL-60622/58365396_zpid/&#39;,\n &#39;https://www.zillow.com/homedetails/2038-W-Pierce-Ave-APT-1E-Chicago-IL-60622/2087631440_zpid/&#39;]"
     },
     "metadata": {},
     "execution_count": 6
    }
   ],
   "source": [
    "wp_bt_listing_links[0:50]"
   ]
  },
  {
   "cell_type": "code",
   "execution_count": null,
   "metadata": {},
   "outputs": [],
   "source": []
  }
 ]
}