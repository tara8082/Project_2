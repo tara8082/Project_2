{
 "cells": [
  {
   "cell_type": "code",
   "execution_count": 3,
   "metadata": {},
   "outputs": [],
   "source": [
    "import requests\n",
    "from bs4 import BeautifulSoup\n",
    "from selenium import webdriver\n",
    "from selenium.webdriver.common.keys import Keys\n",
    "from selenium.webdriver.common.by import By\n",
    "from selenium.webdriver.chrome.options import Options\n",
    "from IPython.core.display import display, HTML\n",
    "import sys\n",
    "import time\n",
    "import numpy as np\n",
    "import pandas as pd\n",
    "import random\n",
    "from fake_useragent import UserAgent\n",
    "import pickle"
   ]
  },
  {
   "cell_type": "code",
   "execution_count": 3,
   "metadata": {},
   "outputs": [],
   "source": [
    "from IPython.core.display import display, HTML\n",
    "\n",
    "chromedriver = \"/Applications/chromedriver\" # path to the chromedriver executable\n",
    "os.environ[\"webdriver.chrome.driver\"] = chromedriver"
   ]
  },
  {
   "cell_type": "code",
   "execution_count": 4,
   "metadata": {},
   "outputs": [],
   "source": [
    "wicker_park_url_test= 'https://www.zillow.com/wicker-park-chicago-il/sold/'"
   ]
  },
  {
   "cell_type": "code",
   "execution_count": 5,
   "metadata": {
    "tags": []
   },
   "outputs": [
    {
     "name": "stdout",
     "output_type": "stream",
     "text": [
      "Mozilla/5.0 (Macintosh; Intel Mac OS X 10_15_6) AppleWebKit/537.36 (KHTML, like Gecko) Chrome/85.0.4183.121 Safari/537.36\n"
     ]
    }
   ],
   "source": [
    "#initiates driver\n",
    "\n",
    "ua = UserAgent()\n",
    "chrome_options = webdriver.ChromeOptions()\n",
    "userAgent = 'Mozilla/5.0 (Macintosh; Intel Mac OS X 10_15_6) AppleWebKit/537.36 (KHTML, like Gecko) Chrome/85.0.4183.121 Safari/537.36'\n",
    "print(userAgent)\n",
    "chrome_options.add_argument(f'user-agent={userAgent}') #add new/change key value of user agent\n",
    "driver = webdriver.Chrome(chrome_options=chrome_options, executable_path = '/Applications/chromedriver')\n",
    "driver.get(wicker_park_url_test)\n",
    "time.sleep(10)"
   ]
  },
  {
   "cell_type": "code",
   "execution_count": 42,
   "metadata": {},
   "outputs": [],
   "source": [
    "# creates list of Wicker Park search query pages\n",
    "\n",
    "base_url = 'https://www.zillow.com/wicker-park-chicago-il/sold/'\n",
    "\n",
    "base_url_2 = '?/searchQueryState=%7B%22pagination%22%3A%7B%7D%2C%22usersSearchTerm%22%3A%22Wicker%20Park%2C%20Chicago%2C%20IL%22%2C%22mapBounds%22%3A%7B%22west%22%3A-87.78373829841962%2C%22east%22%3A-87.50049702644696%2C%22south%22%3A41.80392126619348%2C%22north%22%3A41.9473333009964%7D%2C%22mapZoom%22%3A12%2C%22regionSelection%22%3A%5B%7B%22regionId%22%3A7930%2C%22regionType%22%3A8%7D%5D%2C%22isMapVisible%22%3Atrue%2C%22filterState%22%3A%7B%22pmf%22%3A%7B%22value%22%3Afalse%7D%2C%22fore%22%3A%7B%22value%22%3Afalse%7D%2C%22ah%22%3A%7B%22value%22%3Atrue%7D%2C%22sort%22%3A%7B%22value%22%3A%22globalrelevanceex%22%7D%2C%22auc%22%3A%7B%22value%22%3Afalse%7D%2C%22nc%22%3A%7B%22value%22%3Afalse%7D%2C%22rs%22%3A%7B%22value%22%3Atrue%7D%2C%22fsbo%22%3A%7B%22value%22%3Afalse%7D%2C%22cmsn%22%3A%7B%22value%22%3Afalse%7D%2C%22pf%22%3A%7B%22value%22%3Afalse%7D%2C%22fsba%22%3A%7B%22value%22%3Afalse%7D%7D%2C%22isListVisible%22%3Atrue%7D'\n",
    "\n",
    "search_pages_list_20 = []\n",
    "\n",
    "def first_20_pages():\n",
    "    for i in range(2,21):\n",
    "        search_pages_list_20.append(base_url + str(i) + '_p' + base_url_2)\n",
    "\n"
   ]
  },
  {
   "cell_type": "code",
   "execution_count": null,
   "metadata": {},
   "outputs": [],
   "source": [
    "searh_pages_list_20 = first_20_pages()"
   ]
  },
  {
   "cell_type": "code",
   "execution_count": 13,
   "metadata": {},
   "outputs": [],
   "source": [
    "test_html = []\n",
    "test_html_missed = []\n",
    "test_search_links = []\n",
    "test_property_links_wp = []\n",
    "test_property_links_wp_deduped = []\n",
    "\n",
    "\n",
    "def search_page_queries_wp(list):\n",
    "    '''\n",
    "    Parameters: URL (link to neighborhood search), PAGES (number of pages that are in search for neighborhood)\n",
    "\n",
    "    Function loops through number of pages, driver gets url and turns page in soup object for html parsing. \n",
    "    The div/link for loop goes through each div and appends all links on search page.\n",
    "    Links are appended to \"test_property_links_wp\" if the link contains 'https://zillow.com/homedetails/\n",
    "    Test_property_links_wp_deduped saves all unique links by casting as a set.\n",
    "    \n",
    "    Returns list of property links (for page 1 only as of no)\n",
    "    Prints length of test html to verify\n",
    "    Prints length of test html missed to verify\n",
    "    '''\n",
    "\n",
    "    for i in range(len(list)):\n",
    "        try:\n",
    "            driver.get(list[i]) \n",
    "            time.sleep(15)\n",
    "            soup = BeautifulSoup(driver.page_source, 'html.parser')\n",
    "            test_html.append(soup)\n",
    "            for div in test_html:\n",
    "                for link in div.find_all('a'):\n",
    "                    test_search_links.append(f'{link.get(\"href\")}')\n",
    "            test_property_links_wp = [link for link in test_search_links if 'https://www.zillow.com/homedetails/' in link]\n",
    "            test_property_links_wp_deduped = (set(test_property_links_wp))\n",
    "        except ValueError:\n",
    "            test_html_missed.append(i)\n",
    "    print(len(test_html))\n",
    "    print(len(test_html_missed))\n",
    "    return test_property_links_wp_deduped\n"
   ]
  },
  {
   "cell_type": "code",
   "execution_count": null,
   "metadata": {
    "tags": []
   },
   "outputs": [],
   "source": [
    "test_property_links_wp_deduped = search_page_queries_wp(search_pages_list_20)"
   ]
  },
  {
   "cell_type": "code",
   "execution_count": 52,
   "metadata": {
    "tags": []
   },
   "outputs": [
    {
     "data": {
      "text/plain": [
       "760"
      ]
     },
     "execution_count": 52,
     "metadata": {},
     "output_type": "execute_result"
    }
   ],
   "source": [
    "# shows 760 listing links deduped in Wicker Park\n",
    "len(test_property_links_wp_deduped)"
   ]
  },
  {
   "cell_type": "code",
   "execution_count": 23,
   "metadata": {},
   "outputs": [],
   "source": [
    "# pickles Wicker Park listing links\n",
    "with open('test_property_links_wp_760.pkl', 'wb') as f:\n",
    "     pickle.dump(test_property_links_wp_deduped, f)"
   ]
  },
  {
   "cell_type": "code",
   "execution_count": 32,
   "metadata": {},
   "outputs": [],
   "source": [
    "#Execute same search for Bucktown\n",
    "\n",
    "\n",
    "base_url_bucktown = 'https://www.zillow.com/bucktown-chicago-il/sold/'\n",
    "\n",
    "base_url_bucktown_2 = '?/searchQueryState=%7B%22usersSearchTerm%22%3A%22bucktown%2C%20chicago%22%2C%22mapBounds%22%3A%7B%22west%22%3A-87.70765815899658%2C%22east%22%3A-87.63684784100342%2C%22south%22%3A41.885741173829345%2C%22north%22%3A41.95694886822212%7D%2C%22mapZoom%22%3A14%2C%22regionSelection%22%3A%5B%7B%22regionId%22%3A137603%2C%22regionType%22%3A8%7D%5D%2C%22isMapVisible%22%3Atrue%2C%22filterState%22%3A%7B%22pmf%22%3A%7B%22value%22%3Afalse%7D%2C%22fore%22%3A%7B%22value%22%3Afalse%7D%2C%22ah%22%3A%7B%22value%22%3Atrue%7D%2C%22sort%22%3A%7B%22value%22%3A%22globalrelevanceex%22%7D%2C%22auc%22%3A%7B%22value%22%3Afalse%7D%2C%22nc%22%3A%7B%22value%22%3Afalse%7D%2C%22rs%22%3A%7B%22value%22%3Atrue%7D%2C%22fsbo%22%3A%7B%22value%22%3Afalse%7D%2C%22cmsn%22%3A%7B%22value%22%3Afalse%7D%2C%22pf%22%3A%7B%22value%22%3Afalse%7D%2C%22fsba%22%3A%7B%22value%22%3Afalse%7D%7D%2C%22isListVisible%22%3Atrue%2C%22pagination%22%3A%7B%22currentPage%22%3A4%7D%7D'\n",
    "\n",
    "search_pages_list_bucktown_20 = []\n",
    "\n",
    "def first_20_pages_bucktown():\n",
    "    for i in range(2,21):\n",
    "        search_pages_list_bucktown_20.append(base_url_bucktown + str(i) + '_p' + base_url_bucktown_2)\n"
   ]
  },
  {
   "cell_type": "code",
   "execution_count": null,
   "metadata": {},
   "outputs": [],
   "source": [
    "search_pages_list_bucktown_20 = first_20_pages_bucktown_20()"
   ]
  },
  {
   "cell_type": "code",
   "execution_count": 86,
   "metadata": {},
   "outputs": [],
   "source": [
    "test_html_bt = []\n",
    "test_html_missed_bt = []\n",
    "\n",
    "test_search_links_bt = []\n",
    "test_property_links_bt = []\n",
    "test_property_links_bt_deduped = []\n",
    "\n",
    "\n",
    "def search_page_queries_bt(list):\n",
    "    '''\n",
    "    Parameters: URL (link to neighborhood search), PAGES (number of pages that are in search for neighborhood)\n",
    "\n",
    "    Function loops through number of pages, driver gets url and turns page in soup object for html parsing. \n",
    "    The div/link for loop goes through each div and appends all links on search page.\n",
    "    Links are appended to \"test_property_links_bt\" if the link contains 'https://zillow.com/homedetails/\n",
    "    Test_property_links_bt_deduped saves all unique links by casting as a set.\n",
    "    \n",
    "    Returns list of property links (for page 1 only as of no)\n",
    "    Prints length of test html to verify\n",
    "    Prints length of test html missed to verify\n",
    "    '''\n",
    "\n",
    "    for i in range(len(list)):\n",
    "        try:\n",
    "            driver.get(list[i]) \n",
    "            time.sleep(7)\n",
    "            soup = BeautifulSoup(driver.page_source, 'html.parser')\n",
    "            test_html_bt.append(soup)\n",
    "            for div in test_html_bt:\n",
    "                for link in div.find_all('a'):\n",
    "                    test_search_links_bt.append(f'{link.get(\"href\")}')\n",
    "            test_property_links_bt = [link for link in test_search_links_bt if 'https://www.zillow.com/homedetails/' in link]\n",
    "            test_property_links_bt_deduped = (set(test_property_links_bt))\n",
    "        except ValueError:\n",
    "            test_html_missed_bt.append(i)\n",
    "    print(len(test_html_bt), \"is the length of test_html_bt.\")\n",
    "    print(len(test_html_missed_bt), \"is the length of test_html_missed_bt.\")\n",
    "    return test_property_links_bt_deduped"
   ]
  },
  {
   "cell_type": "code",
   "execution_count": null,
   "metadata": {
    "tags": []
   },
   "outputs": [],
   "source": [
    "test_property_links_bt_deduped = search_page_queries_bt(search_pages_list_bucktown_20)"
   ]
  },
  {
   "cell_type": "code",
   "execution_count": 88,
   "metadata": {},
   "outputs": [
    {
     "data": {
      "text/plain": [
       "758"
      ]
     },
     "execution_count": 88,
     "metadata": {},
     "output_type": "execute_result"
    }
   ],
   "source": [
    "# number of Bucktown listing links deduped is 758\n",
    "len(test_property_links_bt_deduped)"
   ]
  },
  {
   "cell_type": "code",
   "execution_count": 90,
   "metadata": {},
   "outputs": [],
   "source": [
    "# pickles 758 Bucktown listing links\n",
    "with open('test_property_links_bt_final_758.pkl', 'wb') as f:\n",
    "     pickle.dump(test_property_links_bt_deduped, f)"
   ]
  },
  {
   "cell_type": "code",
   "execution_count": 92,
   "metadata": {},
   "outputs": [],
   "source": [
    "# combines Bucktown and Wicker Park listing links\n",
    "wp_bt_listing_links = list(test_property_links_wp_deduped) + list(test_property_links_bt_deduped)"
   ]
  },
  {
   "cell_type": "code",
   "execution_count": 97,
   "metadata": {},
   "outputs": [
    {
     "data": {
      "text/plain": [
       "1518"
      ]
     },
     "execution_count": 97,
     "metadata": {},
     "output_type": "execute_result"
    }
   ],
   "source": [
    "#total of 1518 listings in Wicker Park/Bucktown\n",
    "len(set(wp_bt_listing_links))"
   ]
  },
  {
   "cell_type": "code",
   "execution_count": 98,
   "metadata": {},
   "outputs": [],
   "source": [
    "# pickles combination of listing links\n",
    "with open('wp_bt_listing_links.pkl', 'wb') as f:\n",
    "     pickle.dump(wp_bt_listing_links, f)"
   ]
  },
  {
   "cell_type": "code",
   "execution_count": 20,
   "metadata": {
    "tags": []
   },
   "outputs": [
    {
     "name": "stdout",
     "output_type": "stream",
     "text": [
      "Mozilla/5.0 (Macintosh; Intel Mac OS X 10_15_6) AppleWebKit/537.36 (KHTML, like Gecko) Chrome/85.0.4183.121 Safari/537.36\n"
     ]
    }
   ],
   "source": [
    "#initiates driver\n",
    "\n",
    "ua = UserAgent()\n",
    "chrome_options = webdriver.ChromeOptions()\n",
    "userAgent = 'Mozilla/5.0 (Macintosh; Intel Mac OS X 10_15_6) AppleWebKit/537.36 (KHTML, like Gecko) Chrome/85.0.4183.121 Safari/537.36'\n",
    "print(userAgent)\n",
    "chrome_options.add_argument(f'user-agent={userAgent}') #add new/change key value of user agent\n",
    "driver = webdriver.Chrome(chrome_options=chrome_options, executable_path = '/Applications/chromedriver')\n",
    "driver.get(wicker_park_url_test)\n",
    "time.sleep(15)"
   ]
  },
  {
   "cell_type": "code",
   "execution_count": 13,
   "metadata": {},
   "outputs": [
    {
     "data": {
      "text/plain": [
       "1518"
      ]
     },
     "execution_count": 13,
     "metadata": {},
     "output_type": "execute_result"
    }
   ],
   "source": [
    "len(wp_bt_listing_links)"
   ]
  },
  {
   "cell_type": "code",
   "execution_count": 264,
   "metadata": {},
   "outputs": [],
   "source": [
    "# creates blank list to store listing html\n",
    "\n",
    "listing_html = []\n"
   ]
  },
  {
   "cell_type": "code",
   "execution_count": 26,
   "metadata": {},
   "outputs": [],
   "source": [
    "#This scraping function is ran multiple times over to get all listing information without encountering Recaptcha.\n",
    "#The number of pages scraped varied between 50-125 pages per execution of the function.\n",
    "\n",
    "listing_html_missed = []\n",
    "\n",
    "def scrape_listing_html_data(list):\n",
    "    '''\n",
    "    parameters: list (of listing links)\n",
    "\n",
    "    returns: list of html for all listings\n",
    "    '''\n",
    "\n",
    "    for i in range(1401,1518):\n",
    "        #print(i)\n",
    "        try:\n",
    "            driver.get(list[i]) \n",
    "            time.sleep(7)\n",
    "            listing_html.append(driver.page_source)\n",
    "        except ValueError:\n",
    "            listing_html_missed.append(i)\n",
    "    print(len(listing_html), \"is the length of listing_html.\")\n",
    "    print(len(listing_html_missed), \"is the length of listing_html_missed.\")\n",
    "    return listing_html\n"
   ]
  },
  {
   "cell_type": "code",
   "execution_count": 27,
   "metadata": {
    "tags": []
   },
   "outputs": [
    {
     "name": "stdout",
     "output_type": "stream",
     "text": [
      "1518 is the length of listing_html.\n",
      "0 is the length of listing_html_missed.\n"
     ]
    }
   ],
   "source": [
    "#Stores function output to listing_html \n",
    "listing_html = scrape_listing_html_data(wp_bt_listing_links)"
   ]
  },
  {
   "cell_type": "code",
   "execution_count": 28,
   "metadata": {},
   "outputs": [
    {
     "data": {
      "text/plain": [
       "0"
      ]
     },
     "execution_count": 28,
     "metadata": {},
     "output_type": "execute_result"
    }
   ],
   "source": [
    "#Checks length of list for unsuccessful scrapes of listing pages\n",
    "len(listing_html_missed)"
   ]
  },
  {
   "cell_type": "code",
   "execution_count": 29,
   "metadata": {},
   "outputs": [
    {
     "data": {
      "text/plain": [
       "1518"
      ]
     },
     "execution_count": 29,
     "metadata": {},
     "output_type": "execute_result"
    }
   ],
   "source": [
    "#Checks length of list for successful scrapes of listing pages\n",
    "len(listing_html)"
   ]
  },
  {
   "cell_type": "code",
   "execution_count": 24,
   "metadata": {},
   "outputs": [
    {
     "data": {
      "text/plain": [
       "1401"
      ]
     },
     "execution_count": 24,
     "metadata": {},
     "output_type": "execute_result"
    }
   ],
   "source": [
    "#recaptcha at 129, confirming 129 listings\n",
    "#next run, confirmed 220 listings\n",
    "#next run, confirmed 319 listings\n",
    "#next run, confirmed 404 listings\n",
    "#next run, confirmed 499 listings\n",
    "#next run, confirmed 583 listings\n",
    "#next run, confirmed 649 listings\n",
    "#next run, confirmed 749 listings\n",
    "#next run, confirmed 848 listings\n",
    "#next run, confirmed 1000 listings\n",
    "#next run, confirmed 1200 listings\n",
    "#next run, confirmed 1304 listings\n",
    "#next run, confirmed 1401 listings\n",
    "#next run, confirmed 1518 listings\n",
    "len(listing_html)"
   ]
  },
  {
   "cell_type": "code",
   "execution_count": 30,
   "metadata": {},
   "outputs": [],
   "source": [
    "#pickle dump for listings after each function execution, ended with 1518 listings\n",
    "with open('listing_html_1_1518.pkl', 'wb') as f:\n",
    "     pickle.dump(listing_html, f)"
   ]
  },
  {
   "cell_type": "markdown",
   "metadata": {},
   "source": [
    "## Additinal Scraping for West Town Listing Data Data\n"
   ]
  },
  {
   "cell_type": "code",
   "execution_count": 61,
   "metadata": {},
   "outputs": [],
   "source": [
    "\n",
    "#concatting listing of 20 search pages for West Town\n",
    "\n",
    "base_url_westtown = 'https://www.zillow.com/west-town-chicago-il/sold/'\n",
    "\n",
    "base_url_westtown_2 = '?/?searchQueryState=%7B%22pagination%22%3A%7B%22currentPage%22%3A2%7D%2C%22usersSearchTerm%22%3A%22West%20Town%2C%20Chicago%2C%20IL%22%2C%22mapBounds%22%3A%7B%22west%22%3A-87.70083958752443%2C%22east%22%3A-87.6416164124756%2C%22south%22%3A41.868816104048506%2C%22north%22%3A41.909134352186456%7D%2C%22regionSelection%22%3A%5B%7B%22regionId%22%3A269615%2C%22regionType%22%3A8%7D%5D%2C%22isMapVisible%22%3Atrue%2C%22filterState%22%3A%7B%22fsba%22%3A%7B%22value%22%3Afalse%7D%2C%22fsbo%22%3A%7B%22value%22%3Afalse%7D%2C%22nc%22%3A%7B%22value%22%3Afalse%7D%2C%22fore%22%3A%7B%22value%22%3Afalse%7D%2C%22cmsn%22%3A%7B%22value%22%3Afalse%7D%2C%22auc%22%3A%7B%22value%22%3Afalse%7D%2C%22pmf%22%3A%7B%22value%22%3Afalse%7D%2C%22pf%22%3A%7B%22value%22%3Afalse%7D%2C%22rs%22%3A%7B%22value%22%3Atrue%7D%2C%22ah%22%3A%7B%22value%22%3Atrue%7D%7D%2C%22isListVisible%22%3Atrue%2C%22mapZoom%22%3A14%7D'\n",
    "\n",
    "search_pages_list_westtown_19 = []\n",
    "\n",
    "def first_19_pages_westtown():\n",
    "\n",
    "    for i in range(2,21):\n",
    "        search_pages_list_westtown_19.append(base_url_westtown + str(i) + '_p' + base_url_westtown_2)\n"
   ]
  },
  {
   "cell_type": "code",
   "execution_count": 62,
   "metadata": {},
   "outputs": [],
   "source": [
    "search_pages_list_westtown_19 = first_19_pages_westtown()"
   ]
  },
  {
   "cell_type": "code",
   "execution_count": 63,
   "metadata": {
    "tags": []
   },
   "outputs": [
    {
     "data": {
      "text/plain": [
       "19"
      ]
     },
     "execution_count": 63,
     "metadata": {},
     "output_type": "execute_result"
    }
   ],
   "source": [
    "#confirms 19 search pages were generated\n",
    "\n",
    "len(search_pages_list_westtown_19)"
   ]
  },
  {
   "cell_type": "code",
   "execution_count": 110,
   "metadata": {
    "tags": []
   },
   "outputs": [
    {
     "name": "stdout",
     "output_type": "stream",
     "text": [
      "Mozilla/5.0 (Macintosh; Intel Mac OS X 10_15_6) AppleWebKit/537.36 (KHTML, like Gecko) Chrome/85.0.4183.121 Safari/537.36\n"
     ]
    }
   ],
   "source": [
    "#initiates driver\n",
    "\n",
    "ua = UserAgent()\n",
    "chrome_options = webdriver.ChromeOptions() \n",
    "userAgent = 'Mozilla/5.0 (Macintosh; Intel Mac OS X 10_15_6) AppleWebKit/537.36 (KHTML, like Gecko) Chrome/85.0.4183.121 Safari/537.36'\n",
    "print(userAgent)\n",
    "chrome_options.add_argument(f'user-agent={userAgent}') #add new/change key value of user agent\n",
    "driver = webdriver.Chrome(chrome_options=chrome_options, executable_path = '/Applications/chromedriver')\n",
    "driver.get(wicker_park_url_test)\n",
    "time.sleep(15)"
   ]
  },
  {
   "cell_type": "code",
   "execution_count": 96,
   "metadata": {},
   "outputs": [],
   "source": [
    "links_wt = []\n",
    "links_missed_wt = []\n",
    "\n",
    "search_links_wt = []\n",
    "property_links_wt = []\n",
    "property_links_wt_deduped = []\n",
    "\n",
    "\n",
    "def search_page_queries_wt(list):\n",
    "    '''\n",
    "    Parameters: URL (link to neighborhood search), PAGES (number of pages that are in search for neighborhood)\n",
    "\n",
    "    Function loops through number of pages, driver gets url and turns page in soup object for html parsing. \n",
    "    The div/link for loop goes through each div and appends all links on search page.\n",
    "    Links are appended to \"property_links_wt\" if the link contains 'https://zillow.com/homedetails/\n",
    "    property_links_wt_deduped saves all unique links by casting as a set.\n",
    "    \n",
    "    Returns list of property links (for page 1 only as of no)\n",
    "    Prints length of html to verify\n",
    "    Prints length of html missed to verify\n",
    "    '''\n",
    "\n",
    "    for i in range(len(list)):\n",
    "        try:\n",
    "            driver.get(list[i]) \n",
    "            time.sleep(7)\n",
    "            soup = BeautifulSoup(driver.page_source, 'html.parser')\n",
    "            links_wt.append(soup)\n",
    "            for div in links_wt:\n",
    "                for link in div.find_all('a'):\n",
    "                    search_links_wt.append(f'{link.get(\"href\")}')\n",
    "            property_links_wt = [link for link in search_links_wt if 'https://www.zillow.com/homedetails/' in link]\n",
    "            property_links_wt_deduped = (set(property_links_wt))\n",
    "        except ValueError:\n",
    "            links_missed_wt.append(i)\n",
    "    print(len(links_wt), \"is the length of html_wt.\")\n",
    "    print(len(links_missed_wt), \"is the length of html_missed_wt.\")\n",
    "    return property_links_wt_deduped"
   ]
  },
  {
   "cell_type": "code",
   "execution_count": 98,
   "metadata": {
    "tags": []
   },
   "outputs": [
    {
     "name": "stdout",
     "output_type": "stream",
     "text": [
      "19 is the length of html_wt.\n",
      "0 is the length of html_missed_wt.\n"
     ]
    }
   ],
   "source": [
    "property_links_wt_deduped = search_page_queries_wt(search_pages_list_westtown_19)"
   ]
  },
  {
   "cell_type": "code",
   "execution_count": 100,
   "metadata": {},
   "outputs": [
    {
     "data": {
      "text/plain": [
       "756"
      ]
     },
     "execution_count": 100,
     "metadata": {},
     "output_type": "execute_result"
    }
   ],
   "source": [
    "# confirming 755 unique listing links in Westtown\n",
    "\n",
    "len(property_links_wt_deduped)"
   ]
  },
  {
   "cell_type": "code",
   "execution_count": 104,
   "metadata": {},
   "outputs": [],
   "source": [
    "# change back to list type for iteration\n",
    "property_links_wt_deduped = list(property_links_wt_deduped)"
   ]
  },
  {
   "cell_type": "code",
   "execution_count": 105,
   "metadata": {},
   "outputs": [
    {
     "data": {
      "text/plain": [
       "list"
      ]
     },
     "execution_count": 105,
     "metadata": {},
     "output_type": "execute_result"
    }
   ],
   "source": [
    "type(property_links_wt_deduped)"
   ]
  },
  {
   "cell_type": "code",
   "execution_count": 106,
   "metadata": {},
   "outputs": [],
   "source": [
    "with open('property_links_wt_756.pkl', 'wb') as f:\n",
    "     pickle.dump(property_links_wt_deduped, f)"
   ]
  },
  {
   "cell_type": "code",
   "execution_count": 102,
   "metadata": {},
   "outputs": [],
   "source": [
    "# creates an empty list for storing Westtown listing HTML\n",
    "listing_html_wt = []"
   ]
  },
  {
   "cell_type": "code",
   "execution_count": 127,
   "metadata": {},
   "outputs": [],
   "source": [
    "# This scraping function is ran multiple times over to get all listing information without encountering Recaptcha.\n",
    "# The number of pages scraped varied between 50-125 pages per execution of the function.\n",
    "\n",
    "listing_html_missed_wt = []\n",
    "\n",
    "def scrape_listing_html_data_wt(list):\n",
    "    '''\n",
    "    parameters: list (of listing links) in Westtown\n",
    "\n",
    "    returns: list of html for all listings in Westtown\n",
    "    '''\n",
    "\n",
    "    for i in range(0, 756):\n",
    "        #print(i)\n",
    "        try:\n",
    "            driver.get(list[i]) \n",
    "            time.sleep(7)\n",
    "            listing_html_wt.append(driver.page_source)\n",
    "        except ValueError:\n",
    "            listing_html_missed_wt.append(i)\n",
    "    print(len(listing_html_wt), \"is the length of listing_html.\")\n",
    "    print(len(listing_html_missed_wt), \"is the length of listing_html_missed.\")\n",
    "    return listing_html_wt\n"
   ]
  },
  {
   "cell_type": "code",
   "execution_count": 128,
   "metadata": {
    "tags": []
   },
   "outputs": [
    {
     "name": "stdout",
     "output_type": "stream",
     "text": [
      "755 is the length of listing_html.\n",
      "0 is the length of listing_html_missed.\n"
     ]
    }
   ],
   "source": [
    "listing_html_wt = scrape_listing_html_data_wt(property_links_wt_deduped)"
   ]
  },
  {
   "cell_type": "code",
   "execution_count": 129,
   "metadata": {},
   "outputs": [
    {
     "data": {
      "text/plain": [
       "755"
      ]
     },
     "execution_count": 129,
     "metadata": {},
     "output_type": "execute_result"
    }
   ],
   "source": [
    "len(listing_html_wt)"
   ]
  },
  {
   "cell_type": "code",
   "execution_count": 130,
   "metadata": {},
   "outputs": [],
   "source": [
    "#pickling links through each run\n",
    "\n",
    "with open('listing_html_wt_1_755.pkl', 'wb') as f:\n",
    "     pickle.dump(listing_html_wt, f)"
   ]
  },
  {
   "cell_type": "code",
   "execution_count": 2,
   "metadata": {},
   "outputs": [],
   "source": [
    "#opening pickle of listings from WP and BT\n",
    "infile_wp_bt = open('listing_html_1_1518.pkl', 'rb')\n",
    "listing_html_wp_bt = pickle.load(infile_wp_bt)"
   ]
  },
  {
   "cell_type": "code",
   "execution_count": 3,
   "metadata": {},
   "outputs": [],
   "source": [
    "#opening pickle of listings from WT\n",
    "\n",
    "infile_wt = open('listing_html_wt_1_755.pkl', 'rb')\n",
    "listing_html_wt_1_755_pk = pickle.load(infile_wt)"
   ]
  },
  {
   "cell_type": "code",
   "execution_count": 8,
   "metadata": {},
   "outputs": [],
   "source": [
    "#combining two lists of HTML\n",
    "listing_html_wp_bt_wt = listing_html_wp_bt + listing_html_wt_1_755_pk"
   ]
  },
  {
   "cell_type": "code",
   "execution_count": 11,
   "metadata": {},
   "outputs": [
    {
     "data": {
      "text/plain": [
       "2273"
      ]
     },
     "execution_count": 11,
     "metadata": {},
     "output_type": "execute_result"
    }
   ],
   "source": [
    "#confirming the length of the list\n",
    "len(listing_html_wp_bt_wt)"
   ]
  },
  {
   "cell_type": "code",
   "execution_count": 10,
   "metadata": {},
   "outputs": [],
   "source": [
    "#pickling 2,273 listing HTML for WP, BT, WT\n",
    "with open('listing_html_COMBINED.pkl', 'wb') as f:\n",
    "     pickle.dump(listing_html_wp_bt_wt, f)"
   ]
  },
  {
   "cell_type": "code",
   "execution_count": null,
   "metadata": {},
   "outputs": [],
   "source": []
  }
 ],
 "metadata": {
  "kernelspec": {
   "display_name": "Python 3",
   "language": "python",
   "name": "python3"
  },
  "language_info": {
   "codemirror_mode": {
    "name": "ipython",
    "version": 3
   },
   "file_extension": ".py",
   "mimetype": "text/x-python",
   "name": "python",
   "nbconvert_exporter": "python",
   "pygments_lexer": "ipython3",
   "version": "3.8.3"
  }
 },
 "nbformat": 4,
 "nbformat_minor": 2
}
